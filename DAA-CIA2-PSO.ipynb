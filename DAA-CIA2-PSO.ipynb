{
 "cells": [
  {
   "cell_type": "code",
   "execution_count": 2,
   "id": "0eb4cecb",
   "metadata": {},
   "outputs": [],
   "source": [
    "import numpy as np\n",
    "import pandas as pd\n",
    "import random\n",
    "from sklearn.metrics import classification_report"
   ]
  },
  {
   "cell_type": "code",
   "execution_count": 3,
   "id": "fa8504ed",
   "metadata": {},
   "outputs": [],
   "source": [
    "df = pd.read_csv(r\"C:\\Users\\varun george\\OneDrive\\Desktop\\SNU\\4th sem\\mlt\\datasets\\Bank_Personal_Loan_Modelling.csv\")"
   ]
  },
  {
   "cell_type": "code",
   "execution_count": 4,
   "id": "6f7cff24",
   "metadata": {},
   "outputs": [],
   "source": [
    "df.drop([\"ID\", \"ZIP Code\"],axis=1,inplace=True)"
   ]
  },
  {
   "cell_type": "code",
   "execution_count": 5,
   "id": "0b8d9cd5",
   "metadata": {},
   "outputs": [],
   "source": [
    "df[\"Experience\"] = abs(df[\"Experience\"])"
   ]
  },
  {
   "cell_type": "code",
   "execution_count": 6,
   "id": "451e7d48",
   "metadata": {},
   "outputs": [
    {
     "data": {
      "text/html": [
       "<div>\n",
       "<style scoped>\n",
       "    .dataframe tbody tr th:only-of-type {\n",
       "        vertical-align: middle;\n",
       "    }\n",
       "\n",
       "    .dataframe tbody tr th {\n",
       "        vertical-align: top;\n",
       "    }\n",
       "\n",
       "    .dataframe thead th {\n",
       "        text-align: right;\n",
       "    }\n",
       "</style>\n",
       "<table border=\"1\" class=\"dataframe\">\n",
       "  <thead>\n",
       "    <tr style=\"text-align: right;\">\n",
       "      <th></th>\n",
       "      <th>Age</th>\n",
       "      <th>Experience</th>\n",
       "      <th>Income</th>\n",
       "      <th>Family</th>\n",
       "      <th>CCAvg</th>\n",
       "      <th>Education</th>\n",
       "      <th>Mortgage</th>\n",
       "      <th>Personal Loan</th>\n",
       "      <th>Securities Account</th>\n",
       "      <th>CD Account</th>\n",
       "      <th>Online</th>\n",
       "      <th>CreditCard</th>\n",
       "    </tr>\n",
       "  </thead>\n",
       "  <tbody>\n",
       "    <tr>\n",
       "      <th>0</th>\n",
       "      <td>25</td>\n",
       "      <td>1</td>\n",
       "      <td>49</td>\n",
       "      <td>4</td>\n",
       "      <td>1.6</td>\n",
       "      <td>1</td>\n",
       "      <td>0</td>\n",
       "      <td>0</td>\n",
       "      <td>1</td>\n",
       "      <td>0</td>\n",
       "      <td>0</td>\n",
       "      <td>0</td>\n",
       "    </tr>\n",
       "    <tr>\n",
       "      <th>1</th>\n",
       "      <td>45</td>\n",
       "      <td>19</td>\n",
       "      <td>34</td>\n",
       "      <td>3</td>\n",
       "      <td>1.5</td>\n",
       "      <td>1</td>\n",
       "      <td>0</td>\n",
       "      <td>0</td>\n",
       "      <td>1</td>\n",
       "      <td>0</td>\n",
       "      <td>0</td>\n",
       "      <td>0</td>\n",
       "    </tr>\n",
       "    <tr>\n",
       "      <th>2</th>\n",
       "      <td>39</td>\n",
       "      <td>15</td>\n",
       "      <td>11</td>\n",
       "      <td>1</td>\n",
       "      <td>1.0</td>\n",
       "      <td>1</td>\n",
       "      <td>0</td>\n",
       "      <td>0</td>\n",
       "      <td>0</td>\n",
       "      <td>0</td>\n",
       "      <td>0</td>\n",
       "      <td>0</td>\n",
       "    </tr>\n",
       "    <tr>\n",
       "      <th>3</th>\n",
       "      <td>35</td>\n",
       "      <td>9</td>\n",
       "      <td>100</td>\n",
       "      <td>1</td>\n",
       "      <td>2.7</td>\n",
       "      <td>2</td>\n",
       "      <td>0</td>\n",
       "      <td>0</td>\n",
       "      <td>0</td>\n",
       "      <td>0</td>\n",
       "      <td>0</td>\n",
       "      <td>0</td>\n",
       "    </tr>\n",
       "    <tr>\n",
       "      <th>4</th>\n",
       "      <td>35</td>\n",
       "      <td>8</td>\n",
       "      <td>45</td>\n",
       "      <td>4</td>\n",
       "      <td>1.0</td>\n",
       "      <td>2</td>\n",
       "      <td>0</td>\n",
       "      <td>0</td>\n",
       "      <td>0</td>\n",
       "      <td>0</td>\n",
       "      <td>0</td>\n",
       "      <td>1</td>\n",
       "    </tr>\n",
       "  </tbody>\n",
       "</table>\n",
       "</div>"
      ],
      "text/plain": [
       "   Age  Experience  Income  Family  CCAvg  Education  Mortgage  Personal Loan  \\\n",
       "0   25           1      49       4    1.6          1         0              0   \n",
       "1   45          19      34       3    1.5          1         0              0   \n",
       "2   39          15      11       1    1.0          1         0              0   \n",
       "3   35           9     100       1    2.7          2         0              0   \n",
       "4   35           8      45       4    1.0          2         0              0   \n",
       "\n",
       "   Securities Account  CD Account  Online  CreditCard  \n",
       "0                   1           0       0           0  \n",
       "1                   1           0       0           0  \n",
       "2                   0           0       0           0  \n",
       "3                   0           0       0           0  \n",
       "4                   0           0       0           1  "
      ]
     },
     "execution_count": 6,
     "metadata": {},
     "output_type": "execute_result"
    }
   ],
   "source": [
    "df.head()"
   ]
  },
  {
   "cell_type": "code",
   "execution_count": 8,
   "id": "792dba3b",
   "metadata": {},
   "outputs": [],
   "source": [
    "df['target'] = df['Personal Loan']\n",
    "df.drop('Personal Loan',axis=1,inplace=True)"
   ]
  },
  {
   "cell_type": "code",
   "execution_count": 51,
   "id": "a90652e3",
   "metadata": {},
   "outputs": [],
   "source": [
    "x = df.iloc[:,:-1].values\n",
    "y = df.iloc[:,-1].values"
   ]
  },
  {
   "cell_type": "code",
   "execution_count": 52,
   "id": "ad5b7023",
   "metadata": {},
   "outputs": [],
   "source": [
    "from sklearn.model_selection import train_test_split\n",
    "\n",
    "x_train,x_test,y_train,y_test = train_test_split(x,y,test_size=0.25,random_state=69)"
   ]
  },
  {
   "cell_type": "code",
   "execution_count": 53,
   "id": "36e1939f",
   "metadata": {},
   "outputs": [
    {
     "data": {
      "text/plain": [
       "((3750, 11), (3750,))"
      ]
     },
     "execution_count": 53,
     "metadata": {},
     "output_type": "execute_result"
    }
   ],
   "source": [
    "from sklearn.preprocessing import StandardScaler\n",
    "\n",
    "sc = StandardScaler()\n",
    "x_train = sc.fit_transform(x_train)\n",
    "x_test = sc.transform(x_test)\n",
    "x_train.shape, y_train.shape"
   ]
  },
  {
   "cell_type": "markdown",
   "id": "63077081",
   "metadata": {},
   "source": [
    "### MODEL - USING PYTORCH"
   ]
  },
  {
   "cell_type": "code",
   "execution_count": 54,
   "id": "999dd7d9",
   "metadata": {},
   "outputs": [
    {
     "data": {
      "text/plain": [
       "(torch.Size([3750, 11]), torch.Size([3750]))"
      ]
     },
     "execution_count": 54,
     "metadata": {},
     "output_type": "execute_result"
    }
   ],
   "source": [
    "import torch\n",
    "from torch.utils.data import DataLoader, TensorDataset\n",
    "\n",
    "train_x = torch.from_numpy(x_train).to(torch.float32)\n",
    "train_y = torch.from_numpy(y_train).to(torch.float32)\n",
    "train_x.shape, train_y.shape\n",
    "\n"
   ]
  },
  {
   "cell_type": "code",
   "execution_count": 55,
   "id": "65e2a269",
   "metadata": {},
   "outputs": [],
   "source": [
    "(torch.Size([3750, 11]), torch.Size([3750]))\n",
    "data = TensorDataset(train_x,train_y)\n",
    "data = DataLoader(data,batch_size=20,shuffle=True)"
   ]
  },
  {
   "cell_type": "code",
   "execution_count": 56,
   "id": "7ca94dbb",
   "metadata": {},
   "outputs": [],
   "source": [
    "class Model(torch.nn.Module):\n",
    "    \n",
    "    def __init__(self):\n",
    "        super(Model,self).__init__()\n",
    "        \n",
    "        self.layer1 = torch.nn.Linear(11,4)\n",
    "        self.layer2 = torch.nn.Linear(4,1)\n",
    "        self.sigmoid = torch.nn.Sigmoid()\n",
    "        self.relu = torch.nn.ReLU()\n",
    "        \n",
    "    def forward(self, x):\n",
    "        x = self.layer1(x)\n",
    "        x = self.relu(x)\n",
    "        x = self.layer2(x)\n",
    "        x = self.sigmoid(x)\n",
    "        return x"
   ]
  },
  {
   "cell_type": "code",
   "execution_count": 57,
   "id": "488c6acb",
   "metadata": {},
   "outputs": [
    {
     "data": {
      "text/plain": [
       "Model(\n",
       "  (layer1): Linear(in_features=11, out_features=4, bias=True)\n",
       "  (layer2): Linear(in_features=4, out_features=1, bias=True)\n",
       "  (sigmoid): Sigmoid()\n",
       "  (relu): ReLU()\n",
       ")"
      ]
     },
     "execution_count": 57,
     "metadata": {},
     "output_type": "execute_result"
    }
   ],
   "source": [
    "model=Model()\n",
    "model"
   ]
  },
  {
   "cell_type": "markdown",
   "id": "e04d8afa",
   "metadata": {},
   "source": [
    "### OPTIMAIZATION OF WEIGHTS"
   ]
  },
  {
   "cell_type": "code",
   "execution_count": 58,
   "id": "8494c14c",
   "metadata": {},
   "outputs": [],
   "source": [
    "from pyswarms.single import GlobalBestPSO\n",
    "torch.set_grad_enabled(False)\n",
    "\n",
    "param = np.concatenate([i.numpy().flatten() for i in model.parameters()])\n",
    "shape = [i.numpy().shape for i in model.parameters()]\n",
    "size = [i[0]*i[1] if len(i) == 2 else i[0] for i in shape]\n"
   ]
  },
  {
   "cell_type": "code",
   "execution_count": 59,
   "id": "2eea974e",
   "metadata": {},
   "outputs": [
    {
     "name": "stdout",
     "output_type": "stream",
     "text": [
      "Dim :  53\n",
      "Shape of different layers :  [(4, 11), (4,), (1, 4), (1,)]\n"
     ]
    }
   ],
   "source": [
    "print(\"Dim : \", len(param))\n",
    "print(\"Shape of different layers : \", shape)"
   ]
  },
  {
   "cell_type": "code",
   "execution_count": 64,
   "id": "cb9667a3",
   "metadata": {},
   "outputs": [],
   "source": [
    "def objective_function(particle,shape=shape,size=size):\n",
    "    acc_score = []\n",
    "    output = []\n",
    "    \n",
    "    for par in particle:\n",
    "        param=list()\n",
    "        cum_sum = 0\n",
    "        for i in range(len(size)):\n",
    "            array = par[cum_sum : cum_sum + size[i]]\n",
    "            array = array.reshape(shape[i])\n",
    "            cum_sum += size[i]\n",
    "            param.append(array)\n",
    "        param = np.array(param, dtype=\"object\")\n",
    "        output.append(param)\n",
    "    \n",
    "    for i in range(len(output)):\n",
    "        # Copy Weights and Biases\n",
    "        model = Model()\n",
    "        for idx,weights in enumerate(model.parameters()):\n",
    "            weights.data = (torch.tensor(output[i][idx])).to(torch.float32)\n",
    "        \n",
    "        # Calculate Accuracy\n",
    "        y_pred = model(train_x)\n",
    "        y_pred = torch.where(y_pred>=0.5, 1, 0).flatten()\n",
    "        acc = (y_pred == train_y).sum().float().item() / len(data.dataset)\n",
    "        acc_score.append(1 - acc) # Optimization function aims to reduce the cost so (1 - accuracy)\n",
    "        \n",
    "    return acc_score"
   ]
  },
  {
   "cell_type": "code",
   "execution_count": 65,
   "id": "52cf6a23",
   "metadata": {},
   "outputs": [],
   "source": [
    "grid = {'c1': 0.6, 'c2': 0.3, 'w': 0.1}\n",
    "dim = len(param)\n",
    "x_max = 1.0 * np.ones(dim)\n",
    "x_min = -1.0 * x_max\n",
    "bounds = (x_min, x_max)\n",
    "\n",
    "pso = GlobalBestPSO(n_particles=500, dimensions=53, options=grid, bounds=bounds)"
   ]
  },
  {
   "cell_type": "code",
   "execution_count": 66,
   "id": "87cd06d8",
   "metadata": {},
   "outputs": [
    {
     "name": "stderr",
     "output_type": "stream",
     "text": [
      "2023-04-05 23:05:50,497 - pyswarms.single.global_best - INFO - Optimize for 20 iters with {'c1': 0.6, 'c2': 0.3, 'w': 0.1}\n",
      "pyswarms.single.global_best: 100%|█████████████████████████████████████████████████████████████|20/20, best_cost=0.0405\n",
      "2023-04-05 23:05:58,455 - pyswarms.single.global_best - INFO - Optimization finished | best cost: 0.04053333333333331, best pos: [-0.522994    0.34208217 -0.04398486 -0.73788285  0.16897916 -0.33793491\n",
      "  0.08642112 -0.26926862 -0.32940727 -0.07397394 -0.04961181  0.12101332\n",
      " -0.02207978  0.54524444  0.04258377  0.32955925  0.30526291  0.07025747\n",
      " -0.19271258  0.1707581  -0.06437067 -0.21468247  0.22043951 -0.07545865\n",
      "  0.18868823  0.11819435 -0.31602114  0.52468413 -0.04465821  0.30739816\n",
      " -0.11058351 -0.13512382 -0.30168188  0.04561092  0.40277969 -0.34832955\n",
      "  0.32548779 -0.25622949  0.18499545  0.18975475 -0.03178957 -0.15068021\n",
      "  0.20801496 -0.14960711  0.15698655 -0.3572919  -0.01562668 -0.16613613\n",
      " -0.30760811  0.33100646  0.02668062 -0.15075444 -0.16751811]\n"
     ]
    },
    {
     "name": "stdout",
     "output_type": "stream",
     "text": [
      "Accuracy :  0.9594666666666667\n"
     ]
    }
   ],
   "source": [
    "best_cost, best_parameters = pso.optimize(objective_function, iters=20)\n",
    "print(\"Accuracy : \", 1 - best_cost)"
   ]
  },
  {
   "cell_type": "code",
   "execution_count": 67,
   "id": "23dea70c",
   "metadata": {},
   "outputs": [
    {
     "name": "stdout",
     "output_type": "stream",
     "text": [
      "Accuracy :  0.9594666666666667\n"
     ]
    }
   ],
   "source": [
    "result = []\n",
    "for par in [best_parameters]:\n",
    "    param = list()\n",
    "    cum_sum = 0\n",
    "    for i in range(len(size)):\n",
    "        array = par[cum_sum : cum_sum + size[i]]\n",
    "        array = array.reshape(shape[i])\n",
    "        cum_sum += size[i]\n",
    "        param.append(array)\n",
    "    param = np.array(param, dtype=\"object\")\n",
    "    result.append(param)\n",
    "\n",
    "best_model = Model()\n",
    "for idx,wei in enumerate(best_model.parameters()):\n",
    "    wei.data = (torch.tensor(result[0][idx])).to(torch.float32)\n",
    "\n",
    "# Calculate Accuracy\n",
    "y_pred = best_model(train_x)\n",
    "y_pred = torch.where(y_pred>=0.5, 1, 0).flatten()\n",
    "acc = (y_pred == train_y).sum().float().item() / len(data.dataset)\n",
    "print(\"Accuracy : \", acc)"
   ]
  },
  {
   "cell_type": "code",
   "execution_count": 68,
   "id": "d6d7a5d5",
   "metadata": {},
   "outputs": [],
   "source": [
    "test_x = torch.from_numpy(x_test).to(torch.float32)\n",
    "test_y = torch.from_numpy(y_test).to(torch.float32)\n",
    "test = TensorDataset(test_x,test_y)\n",
    "test = DataLoader(test,batch_size=1)"
   ]
  },
  {
   "cell_type": "code",
   "execution_count": 69,
   "id": "7c25f855",
   "metadata": {},
   "outputs": [
    {
     "name": "stdout",
     "output_type": "stream",
     "text": [
      "              precision    recall  f1-score   support\n",
      "\n",
      "           0       0.99      0.97      0.98      1157\n",
      "           1       0.66      0.82      0.73        93\n",
      "\n",
      "    accuracy                           0.96      1250\n",
      "   macro avg       0.82      0.89      0.85      1250\n",
      "weighted avg       0.96      0.96      0.96      1250\n",
      "\n"
     ]
    }
   ],
   "source": [
    "y_pred = best_model(test_x)\n",
    "y_pred = torch.where(y_pred>=0.5, 1, 0).flatten()\n",
    "print(classification_report(y_pred,test_y))"
   ]
  },
  {
   "cell_type": "code",
   "execution_count": null,
   "id": "051ce228",
   "metadata": {},
   "outputs": [],
   "source": []
  }
 ],
 "metadata": {
  "kernelspec": {
   "display_name": "Python 3 (ipykernel)",
   "language": "python",
   "name": "python3"
  },
  "language_info": {
   "codemirror_mode": {
    "name": "ipython",
    "version": 3
   },
   "file_extension": ".py",
   "mimetype": "text/x-python",
   "name": "python",
   "nbconvert_exporter": "python",
   "pygments_lexer": "ipython3",
   "version": "3.9.13"
  }
 },
 "nbformat": 4,
 "nbformat_minor": 5
}
