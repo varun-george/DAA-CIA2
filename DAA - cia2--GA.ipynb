{
 "cells": [
  {
   "cell_type": "markdown",
   "id": "a5d8f75e",
   "metadata": {},
   "source": [
    "### Neural Nets"
   ]
  },
  {
   "cell_type": "code",
   "execution_count": 1,
   "id": "a4c914f6",
   "metadata": {},
   "outputs": [],
   "source": [
    "import pandas as pd\n",
    "import numpy as np"
   ]
  },
  {
   "cell_type": "code",
   "execution_count": 2,
   "id": "150047ce",
   "metadata": {},
   "outputs": [],
   "source": [
    "df = pd.read_csv(r\"C:\\Users\\varun george\\OneDrive\\Desktop\\SNU\\4th sem\\mlt\\datasets\\Bank_Personal_Loan_Modelling.csv\")"
   ]
  },
  {
   "cell_type": "code",
   "execution_count": 3,
   "id": "e261ad0e",
   "metadata": {},
   "outputs": [],
   "source": [
    "df['Experience'] = abs(df['Experience'])"
   ]
  },
  {
   "cell_type": "code",
   "execution_count": 4,
   "id": "59988b1b",
   "metadata": {},
   "outputs": [
    {
     "data": {
      "text/html": [
       "<div>\n",
       "<style scoped>\n",
       "    .dataframe tbody tr th:only-of-type {\n",
       "        vertical-align: middle;\n",
       "    }\n",
       "\n",
       "    .dataframe tbody tr th {\n",
       "        vertical-align: top;\n",
       "    }\n",
       "\n",
       "    .dataframe thead th {\n",
       "        text-align: right;\n",
       "    }\n",
       "</style>\n",
       "<table border=\"1\" class=\"dataframe\">\n",
       "  <thead>\n",
       "    <tr style=\"text-align: right;\">\n",
       "      <th></th>\n",
       "      <th>ID</th>\n",
       "      <th>Age</th>\n",
       "      <th>Experience</th>\n",
       "      <th>Income</th>\n",
       "      <th>ZIP Code</th>\n",
       "      <th>Family</th>\n",
       "      <th>CCAvg</th>\n",
       "      <th>Education</th>\n",
       "      <th>Mortgage</th>\n",
       "      <th>Personal Loan</th>\n",
       "      <th>Securities Account</th>\n",
       "      <th>CD Account</th>\n",
       "      <th>Online</th>\n",
       "      <th>CreditCard</th>\n",
       "      <th>target</th>\n",
       "    </tr>\n",
       "  </thead>\n",
       "  <tbody>\n",
       "    <tr>\n",
       "      <th>0</th>\n",
       "      <td>1</td>\n",
       "      <td>25</td>\n",
       "      <td>1</td>\n",
       "      <td>49</td>\n",
       "      <td>91107</td>\n",
       "      <td>4</td>\n",
       "      <td>1.6</td>\n",
       "      <td>1</td>\n",
       "      <td>0</td>\n",
       "      <td>0</td>\n",
       "      <td>1</td>\n",
       "      <td>0</td>\n",
       "      <td>0</td>\n",
       "      <td>0</td>\n",
       "      <td>0</td>\n",
       "    </tr>\n",
       "    <tr>\n",
       "      <th>1</th>\n",
       "      <td>2</td>\n",
       "      <td>45</td>\n",
       "      <td>19</td>\n",
       "      <td>34</td>\n",
       "      <td>90089</td>\n",
       "      <td>3</td>\n",
       "      <td>1.5</td>\n",
       "      <td>1</td>\n",
       "      <td>0</td>\n",
       "      <td>0</td>\n",
       "      <td>1</td>\n",
       "      <td>0</td>\n",
       "      <td>0</td>\n",
       "      <td>0</td>\n",
       "      <td>0</td>\n",
       "    </tr>\n",
       "    <tr>\n",
       "      <th>2</th>\n",
       "      <td>3</td>\n",
       "      <td>39</td>\n",
       "      <td>15</td>\n",
       "      <td>11</td>\n",
       "      <td>94720</td>\n",
       "      <td>1</td>\n",
       "      <td>1.0</td>\n",
       "      <td>1</td>\n",
       "      <td>0</td>\n",
       "      <td>0</td>\n",
       "      <td>0</td>\n",
       "      <td>0</td>\n",
       "      <td>0</td>\n",
       "      <td>0</td>\n",
       "      <td>0</td>\n",
       "    </tr>\n",
       "    <tr>\n",
       "      <th>3</th>\n",
       "      <td>4</td>\n",
       "      <td>35</td>\n",
       "      <td>9</td>\n",
       "      <td>100</td>\n",
       "      <td>94112</td>\n",
       "      <td>1</td>\n",
       "      <td>2.7</td>\n",
       "      <td>2</td>\n",
       "      <td>0</td>\n",
       "      <td>0</td>\n",
       "      <td>0</td>\n",
       "      <td>0</td>\n",
       "      <td>0</td>\n",
       "      <td>0</td>\n",
       "      <td>0</td>\n",
       "    </tr>\n",
       "    <tr>\n",
       "      <th>4</th>\n",
       "      <td>5</td>\n",
       "      <td>35</td>\n",
       "      <td>8</td>\n",
       "      <td>45</td>\n",
       "      <td>91330</td>\n",
       "      <td>4</td>\n",
       "      <td>1.0</td>\n",
       "      <td>2</td>\n",
       "      <td>0</td>\n",
       "      <td>0</td>\n",
       "      <td>0</td>\n",
       "      <td>0</td>\n",
       "      <td>0</td>\n",
       "      <td>1</td>\n",
       "      <td>0</td>\n",
       "    </tr>\n",
       "  </tbody>\n",
       "</table>\n",
       "</div>"
      ],
      "text/plain": [
       "   ID  Age  Experience  Income  ZIP Code  Family  CCAvg  Education  Mortgage  \\\n",
       "0   1   25           1      49     91107       4    1.6          1         0   \n",
       "1   2   45          19      34     90089       3    1.5          1         0   \n",
       "2   3   39          15      11     94720       1    1.0          1         0   \n",
       "3   4   35           9     100     94112       1    2.7          2         0   \n",
       "4   5   35           8      45     91330       4    1.0          2         0   \n",
       "\n",
       "   Personal Loan  Securities Account  CD Account  Online  CreditCard  target  \n",
       "0              0                   1           0       0           0       0  \n",
       "1              0                   1           0       0           0       0  \n",
       "2              0                   0           0       0           0       0  \n",
       "3              0                   0           0       0           0       0  \n",
       "4              0                   0           0       0           1       0  "
      ]
     },
     "execution_count": 4,
     "metadata": {},
     "output_type": "execute_result"
    }
   ],
   "source": [
    "df['target'] = df['Personal Loan']\n",
    "df.head()"
   ]
  },
  {
   "cell_type": "code",
   "execution_count": 5,
   "id": "8bd8f3c8",
   "metadata": {},
   "outputs": [],
   "source": [
    "df.drop('ID',axis=1,inplace=True)\n",
    "df.drop('ZIP Code',axis=1,inplace=True)\n",
    "df.drop('Personal Loan',axis=1,inplace=True)\n"
   ]
  },
  {
   "cell_type": "code",
   "execution_count": 6,
   "id": "882ed4fa",
   "metadata": {},
   "outputs": [
    {
     "data": {
      "text/plain": [
       "(5000, 12)"
      ]
     },
     "execution_count": 6,
     "metadata": {},
     "output_type": "execute_result"
    }
   ],
   "source": [
    "df.shape"
   ]
  },
  {
   "cell_type": "code",
   "execution_count": 7,
   "id": "13109467",
   "metadata": {},
   "outputs": [],
   "source": [
    "x = df.iloc[:,:-1].values\n",
    "y= df.iloc[:,-1].values"
   ]
  },
  {
   "cell_type": "code",
   "execution_count": 8,
   "id": "91952aa5",
   "metadata": {},
   "outputs": [],
   "source": [
    "from sklearn.model_selection import train_test_split\n",
    "\n",
    "x_train,x_test,y_train,y_test = train_test_split(x,y,test_size =0.3,random_state =0)\n"
   ]
  },
  {
   "cell_type": "code",
   "execution_count": 9,
   "id": "6cd842c1",
   "metadata": {},
   "outputs": [],
   "source": [
    "from sklearn.preprocessing import StandardScaler\n",
    "sc = StandardScaler()\n",
    "x_train = sc.fit_transform(x_train)\n",
    "x_test = sc.transform(x_test)"
   ]
  },
  {
   "cell_type": "code",
   "execution_count": 10,
   "id": "1a19779d",
   "metadata": {},
   "outputs": [],
   "source": [
    "from tensorflow import keras\n",
    "from tensorflow.keras import layers\n",
    "import tensorflow as tf\n",
    "from keras.models import Sequential"
   ]
  },
  {
   "cell_type": "code",
   "execution_count": 11,
   "id": "4f15bc63",
   "metadata": {},
   "outputs": [],
   "source": [
    "inputs = keras.Input(shape=(11,),name = 'input_layer')\n",
    "\n",
    "dense = layers.Dense(4, activation=\"relu\" , name = 'hidden_layer')\n",
    "x = dense(inputs) #hidden layer 1\n",
    "\n",
    "dense2 = layers.Dense(1, activation=\"sigmoid\" , name = 'output_layer')\n",
    "outputs = dense2(x)\n",
    "\n",
    "model = keras.Model(inputs=inputs, outputs=outputs, name=\"neural_net_model\")\n",
    "\n"
   ]
  },
  {
   "cell_type": "code",
   "execution_count": 12,
   "id": "d2196a28",
   "metadata": {},
   "outputs": [],
   "source": [
    "model.compile(optimizer=tf.keras.optimizers.Adam(learning_rate=0.003),\n",
    "              loss=tf.keras.losses.BinaryCrossentropy(),\n",
    "              metrics=[tf.keras.metrics.BinaryAccuracy()])"
   ]
  },
  {
   "cell_type": "code",
   "execution_count": 13,
   "id": "d2a1dd6d",
   "metadata": {},
   "outputs": [
    {
     "name": "stdout",
     "output_type": "stream",
     "text": [
      "Model: \"neural_net_model\"\n",
      "_________________________________________________________________\n",
      " Layer (type)                Output Shape              Param #   \n",
      "=================================================================\n",
      " input_layer (InputLayer)    [(None, 11)]              0         \n",
      "                                                                 \n",
      " hidden_layer (Dense)        (None, 4)                 48        \n",
      "                                                                 \n",
      " output_layer (Dense)        (None, 1)                 5         \n",
      "                                                                 \n",
      "=================================================================\n",
      "Total params: 53\n",
      "Trainable params: 53\n",
      "Non-trainable params: 0\n",
      "_________________________________________________________________\n"
     ]
    }
   ],
   "source": [
    "model.summary()"
   ]
  },
  {
   "cell_type": "code",
   "execution_count": 14,
   "id": "c85d3211",
   "metadata": {},
   "outputs": [
    {
     "name": "stdout",
     "output_type": "stream",
     "text": [
      "Weights of the different layers : \n",
      "input_layer\n",
      "[]\n",
      "hidden_layer\n",
      "[array([[ 0.19215107, -0.4335256 , -0.23818502, -0.35344404],\n",
      "       [ 0.52024835, -0.08256793,  0.39723426,  0.06634736],\n",
      "       [ 0.4057557 , -0.62855595, -0.03507233, -0.6171032 ],\n",
      "       [ 0.30721855,  0.24695295,  0.4247622 , -0.3294405 ],\n",
      "       [-0.2608277 , -0.25120658,  0.5482376 ,  0.617304  ],\n",
      "       [ 0.02310979, -0.33087784, -0.54918295,  0.5299122 ],\n",
      "       [ 0.40072113, -0.5894912 ,  0.3354802 , -0.5423782 ],\n",
      "       [ 0.59931105, -0.31642258, -0.44962442,  0.20623022],\n",
      "       [ 0.08313429,  0.39313275, -0.3539139 ,  0.20795316],\n",
      "       [-0.36745822, -0.1357404 ,  0.56307703,  0.3628949 ],\n",
      "       [-0.16478646, -0.19968796,  0.41115063,  0.28980285]],\n",
      "      dtype=float32), array([0., 0., 0., 0.], dtype=float32)]\n",
      "output_layer\n",
      "[array([[-0.12418401],\n",
      "       [-0.06918335],\n",
      "       [-0.30677843],\n",
      "       [-0.41296542]], dtype=float32), array([0.], dtype=float32)]\n"
     ]
    }
   ],
   "source": [
    "print('Weights of the different layers : ')\n",
    "for layer in model.layers:\n",
    "    print(layer.name)\n",
    "    print(layer.get_weights())"
   ]
  },
  {
   "cell_type": "code",
   "execution_count": 15,
   "id": "aebd83a8",
   "metadata": {},
   "outputs": [
    {
     "data": {
      "text/plain": [
       "<keras.callbacks.History at 0x22a48eabac0>"
      ]
     },
     "execution_count": 15,
     "metadata": {},
     "output_type": "execute_result"
    }
   ],
   "source": [
    "model.fit(x_train, y_train, epochs=20, batch_size=20,verbose=0)"
   ]
  },
  {
   "cell_type": "code",
   "execution_count": 16,
   "id": "777a3964",
   "metadata": {},
   "outputs": [
    {
     "name": "stdout",
     "output_type": "stream",
     "text": [
      "Weights of the different layers after training : \n",
      "input_layer\n",
      "[]\n",
      "hidden_layer\n",
      "[array([[ 0.25773853, -0.31128883, -0.39069948, -0.1146198 ],\n",
      "       [ 0.5225941 , -0.09656098,  0.32057765,  0.06728781],\n",
      "       [-0.99313647, -2.1408088 , -0.35860875, -1.8330737 ],\n",
      "       [ 0.37494415,  0.17619811, -1.3888474 , -0.03107295],\n",
      "       [-0.7963619 , -0.9700903 ,  0.10935844, -0.4193877 ],\n",
      "       [-0.76336664,  0.36008868, -2.351552  ,  0.69671524],\n",
      "       [-0.25078067,  0.0673098 ,  0.01380199, -0.07426192],\n",
      "       [ 0.5163049 , -0.6160444 ,  0.02416871,  0.17057486],\n",
      "       [-0.67381907, -0.0497939 , -0.43759316, -0.2789171 ],\n",
      "       [-0.14389499, -0.45436475,  0.34702203,  0.41560796],\n",
      "       [-0.09504285, -0.6530196 ,  0.34119532,  0.5347249 ]],\n",
      "      dtype=float32), array([1.1510026 , 1.5582379 , 0.09680355, 1.4839303 ], dtype=float32)]\n",
      "output_layer\n",
      "[array([[-1.0297728],\n",
      "       [-1.3301976],\n",
      "       [-1.6985506],\n",
      "       [-2.0933526]], dtype=float32), array([2.2117808], dtype=float32)]\n"
     ]
    }
   ],
   "source": [
    "chromosome1 =[]\n",
    "c=0\n",
    "print('Weights of the different layers after training : ')\n",
    "for layer in model.layers:\n",
    "    print(layer.name)\n",
    "    print(layer.get_weights())\n",
    "    if c==1:\n",
    "        chromosome1 = layer.get_weights()    \n",
    "    c +=1\n",
    "    "
   ]
  },
  {
   "cell_type": "markdown",
   "id": "50aee346",
   "metadata": {},
   "source": [
    "### Genetic Algorithm"
   ]
  },
  {
   "cell_type": "markdown",
   "id": "03096c08",
   "metadata": {},
   "source": [
    "#### initial populations"
   ]
  },
  {
   "cell_type": "code",
   "execution_count": 17,
   "id": "51347b57",
   "metadata": {},
   "outputs": [
    {
     "data": {
      "text/plain": [
       "array([[ 0.25773853, -0.31128883, -0.39069948, -0.1146198 ],\n",
       "       [ 0.5225941 , -0.09656098,  0.32057765,  0.06728781],\n",
       "       [-0.99313647, -2.1408088 , -0.35860875, -1.8330737 ],\n",
       "       [ 0.37494415,  0.17619811, -1.3888474 , -0.03107295],\n",
       "       [-0.7963619 , -0.9700903 ,  0.10935844, -0.4193877 ],\n",
       "       [-0.76336664,  0.36008868, -2.351552  ,  0.69671524],\n",
       "       [-0.25078067,  0.0673098 ,  0.01380199, -0.07426192],\n",
       "       [ 0.5163049 , -0.6160444 ,  0.02416871,  0.17057486],\n",
       "       [-0.67381907, -0.0497939 , -0.43759316, -0.2789171 ],\n",
       "       [-0.14389499, -0.45436475,  0.34702203,  0.41560796],\n",
       "       [-0.09504285, -0.6530196 ,  0.34119532,  0.5347249 ]],\n",
       "      dtype=float32)"
      ]
     },
     "execution_count": 17,
     "metadata": {},
     "output_type": "execute_result"
    }
   ],
   "source": [
    "ch1=chromosome1[0]\n",
    "ch1"
   ]
  },
  {
   "cell_type": "code",
   "execution_count": 18,
   "id": "71aacbc8",
   "metadata": {},
   "outputs": [],
   "source": [
    "chromosome2=[]\n",
    "chromosome3=[]\n",
    "chromosome4=[]\n",
    "chromosome5=[]\n",
    "chromosome6=[]\n",
    "\n",
    "chromosome_list= [chromosome2,chromosome3,chromosome4,chromosome5,chromosome6]"
   ]
  },
  {
   "cell_type": "code",
   "execution_count": 19,
   "id": "5d344b32",
   "metadata": {},
   "outputs": [],
   "source": [
    "for i in range(5):\n",
    "    model.fit(x_train, y_train, epochs=20, batch_size=20,verbose=0)\n",
    "    c=0\n",
    "    for layer in model.layers:\n",
    "        if c==1:\n",
    "            chromosome_list[i] = layer.get_weights() \n",
    "        c+=1\n",
    "    "
   ]
  },
  {
   "cell_type": "code",
   "execution_count": 20,
   "id": "f73d28b6",
   "metadata": {},
   "outputs": [],
   "source": [
    "ch2=chromosome_list[0][0]\n",
    "ch3=chromosome_list[1][0]\n",
    "ch4=chromosome_list[2][0]\n",
    "ch5=chromosome_list[3][0]\n",
    "ch6=chromosome_list[4][0]"
   ]
  },
  {
   "cell_type": "markdown",
   "id": "5fff4f48",
   "metadata": {},
   "source": [
    "#### applying fitness function"
   ]
  },
  {
   "cell_type": "code",
   "execution_count": 21,
   "id": "f1fef089",
   "metadata": {},
   "outputs": [],
   "source": [
    "from sklearn.metrics import accuracy_score"
   ]
  },
  {
   "cell_type": "code",
   "execution_count": 22,
   "id": "7c7b0746",
   "metadata": {},
   "outputs": [],
   "source": [
    "fitness_score=[]\n",
    "ch_list=['ch1','ch2','ch3','ch4','ch5','ch6']\n",
    "ch_dict = {'ch1':ch1,'ch2':ch2,'ch3':ch3,'ch4':ch4,'ch5':ch5,'ch6':ch6}"
   ]
  },
  {
   "cell_type": "code",
   "execution_count": 23,
   "id": "d72c3793",
   "metadata": {},
   "outputs": [],
   "source": [
    "def fitness(ch,model,x_test,y_test):\n",
    "    # Setting new weights\n",
    "    c=0\n",
    "    for layer in model.layers:        \n",
    "        if c==1:\n",
    "            bias = layer.get_weights()[1]\n",
    "            layer.set_weights([ch,bias])\n",
    "        c+=1\n",
    "    y_pred = model.predict(x_test, batch_size=20)\n",
    "    y_pred = np.where(y_pred>=0.5,1,0)\n",
    "    print(accuracy_score(y_pred,y_test))\n",
    "    fitness_score.append([accuracy_score(y_pred,y_test),ch_list[i]])\n",
    "\n",
    "    "
   ]
  },
  {
   "cell_type": "code",
   "execution_count": 24,
   "id": "83b9fbd0",
   "metadata": {},
   "outputs": [],
   "source": [
    "ch=[ch1,ch2,ch3,ch4,ch5,ch6]"
   ]
  },
  {
   "cell_type": "markdown",
   "id": "e62fad20",
   "metadata": {},
   "source": [
    "#### crossover"
   ]
  },
  {
   "cell_type": "code",
   "execution_count": 25,
   "id": "968d2481",
   "metadata": {},
   "outputs": [],
   "source": [
    "def crossover(arr1,arr2):\n",
    "    crossover_point = 5\n",
    "    child1 = np.concatenate([arr1[:crossover_point],arr2[crossover_point:11]])\n",
    "    child2 = np.concatenate([arr2[:crossover_point],arr1[crossover_point:11]])\n",
    "    return child1,child2"
   ]
  },
  {
   "cell_type": "markdown",
   "id": "efd6f8ab",
   "metadata": {},
   "source": [
    "#### mutate\n"
   ]
  },
  {
   "cell_type": "code",
   "execution_count": 26,
   "id": "9d7c574b",
   "metadata": {},
   "outputs": [],
   "source": [
    "import random\n",
    "def mutate(child1,child2):\n",
    "    mut1 = np.random.uniform(0,1,4)\n",
    "    mut2 = np.random.uniform(0,1,4)\n",
    "    mut_point = random.randint(0,10)\n",
    "    #print(mut_point)\n",
    "    child1_mut = child1\n",
    "    child2_mut = child2\n",
    "    \n",
    "    child1_mut[mut_point]=mut1\n",
    "    child2_mut[mut_point]=mut2\n",
    "    \n",
    "    return child1,child1_mut,child2,child2_mut"
   ]
  },
  {
   "cell_type": "markdown",
   "id": "31a9c970",
   "metadata": {},
   "source": [
    "#### repopulating the initial pop"
   ]
  },
  {
   "cell_type": "code",
   "execution_count": 27,
   "id": "75b4820d",
   "metadata": {},
   "outputs": [],
   "source": [
    "def repop(child_list,ch_dict,fitness_score,ch):\n",
    "    fitness_score.sort(key = lambda x:x[0],reverse = False)\n",
    "    for i in range(4):\n",
    "        ch_dict[fitness_score[i][1]]=child_list[i]\n",
    "    ch = ch_dict.values()"
   ]
  },
  {
   "cell_type": "markdown",
   "id": "703f1257",
   "metadata": {},
   "source": [
    "#### grouping all the functions into 1 and running for 'n' generations"
   ]
  },
  {
   "cell_type": "code",
   "execution_count": 28,
   "id": "299e7340",
   "metadata": {},
   "outputs": [
    {
     "name": "stdout",
     "output_type": "stream",
     "text": [
      "75/75 [==============================] - 0s 976us/step\n",
      "0.944\n",
      "75/75 [==============================] - 0s 1ms/step\n",
      "0.9646666666666667\n",
      "75/75 [==============================] - 0s 1ms/step\n",
      "0.976\n",
      "75/75 [==============================] - 0s 1ms/step\n",
      "0.9766666666666667\n",
      "75/75 [==============================] - 0s 1ms/step\n",
      "0.9786666666666667\n",
      "75/75 [==============================] - 0s 1ms/step\n",
      "0.9786666666666667\n",
      "75/75 [==============================] - 0s 994us/step\n",
      "0.944\n",
      "75/75 [==============================] - 0s 804us/step\n",
      "0.9646666666666667\n",
      "75/75 [==============================] - 0s 1ms/step\n",
      "0.976\n",
      "75/75 [==============================] - 0s 919us/step\n",
      "0.9766666666666667\n",
      "75/75 [==============================] - 0s 998us/step\n",
      "0.9786666666666667\n",
      "75/75 [==============================] - 0s 1ms/step\n",
      "0.9786666666666667\n",
      "75/75 [==============================] - 0s 1ms/step\n",
      "0.944\n",
      "75/75 [==============================] - 0s 907us/step\n",
      "0.9646666666666667\n",
      "75/75 [==============================] - 0s 1ms/step\n",
      "0.976\n",
      "75/75 [==============================] - 0s 1ms/step\n",
      "0.9766666666666667\n",
      "75/75 [==============================] - 0s 1ms/step\n",
      "0.9786666666666667\n",
      "75/75 [==============================] - 0s 744us/step\n",
      "0.9786666666666667\n",
      "75/75 [==============================] - 0s 1ms/step\n",
      "0.944\n",
      "75/75 [==============================] - 0s 975us/step\n",
      "0.9646666666666667\n",
      "75/75 [==============================] - 0s 2ms/step\n",
      "0.976\n",
      "75/75 [==============================] - 0s 1ms/step\n",
      "0.9766666666666667\n",
      "75/75 [==============================] - 0s 1ms/step\n",
      "0.9786666666666667\n",
      "75/75 [==============================] - 0s 893us/step\n",
      "0.9786666666666667\n",
      "75/75 [==============================] - 0s 919us/step\n",
      "0.944\n",
      "75/75 [==============================] - 0s 986us/step\n",
      "0.9646666666666667\n",
      "75/75 [==============================] - 0s 1ms/step\n",
      "0.976\n",
      "75/75 [==============================] - 0s 1ms/step\n",
      "0.9766666666666667\n",
      "75/75 [==============================] - 0s 1ms/step\n",
      "0.9786666666666667\n",
      "75/75 [==============================] - 0s 1ms/step\n",
      "0.9786666666666667\n",
      "75/75 [==============================] - 0s 841us/step\n",
      "0.944\n",
      "75/75 [==============================] - 0s 1ms/step\n",
      "0.9646666666666667\n",
      "75/75 [==============================] - 0s 1ms/step\n",
      "0.976\n",
      "75/75 [==============================] - 0s 1ms/step\n",
      "0.9766666666666667\n",
      "75/75 [==============================] - 0s 1ms/step\n",
      "0.9786666666666667\n",
      "75/75 [==============================] - 0s 1ms/step\n",
      "0.9786666666666667\n"
     ]
    }
   ],
   "source": [
    "total_gen = 6\n",
    "\n",
    "while(total_gen>0):\n",
    "    #finding the fitness score of initial pop\n",
    "    for i in range(6):\n",
    "        fitness(ch[i],model,x_test,y_test)\n",
    "    fitness_score.sort(key = lambda x:x[0],reverse = True) #finding the fitness score of initial pop\n",
    "    \n",
    "    #selecting the parents -> tournament selection\n",
    "    select_parents = fitness_score[:2]\n",
    "    final_sel_parents = []\n",
    "    \n",
    "    #doing one-point crossover\n",
    "    for i in range(len(select_parents)):\n",
    "        final_sel_parents.append(ch_dict[select_parents[i][1]])\n",
    "    child1,child2 = crossover(final_sel_parents[0],final_sel_parents[1])\n",
    "    \n",
    "    #mutating the children\n",
    "    child1,child1_mut,child2,child2_mut = mutate(child1,child2)\n",
    "    child_list = [child1,child1_mut,child2,child2_mut]\n",
    "    \n",
    "    #repopulating the initial population with the children\n",
    "    repop(child_list,ch_dict,fitness_score,ch)\n",
    "    \n",
    "    select_parents=[]\n",
    "    final_sel_parents=[]\n",
    "    child_list=[]\n",
    "    fitness_score=[]\n",
    "    \n",
    "    \n",
    "    total_gen-=1\n",
    "    \n",
    "    "
   ]
  },
  {
   "cell_type": "code",
   "execution_count": 29,
   "id": "efd5cb18",
   "metadata": {},
   "outputs": [
    {
     "data": {
      "text/plain": [
       "{'ch1': array([[ 0.2754641 , -0.07923441, -0.4493305 ,  0.01728123],\n",
       "        [ 0.3103391 , -0.40044683,  0.39582956, -0.31698862],\n",
       "        [-1.3666438 , -2.2423763 ,  0.18012889, -1.912227  ],\n",
       "        [ 0.8787625 ,  0.00801743, -1.668448  , -0.34690788],\n",
       "        [ 0.5223749 ,  0.60135025,  0.661718  ,  0.85360104],\n",
       "        [-0.5808076 ,  0.39338842, -2.9029624 ,  0.9015486 ],\n",
       "        [-0.34181672,  0.25451642, -0.01870758, -0.13429973],\n",
       "        [ 0.51492554, -0.5277994 , -0.02577782,  0.0768648 ],\n",
       "        [-0.61691374, -0.0548966 , -0.35278717, -0.20526095],\n",
       "        [ 0.23113224, -0.596352  ,  0.28020793,  0.46288857],\n",
       "        [ 0.33384016, -0.8576898 ,  0.22644633,  0.6390262 ]],\n",
       "       dtype=float32),\n",
       " 'ch2': array([[ 0.2754641 , -0.07923441, -0.4493305 ,  0.01728123],\n",
       "        [ 0.3103391 , -0.40044683,  0.39582956, -0.31698862],\n",
       "        [-1.3666438 , -2.2423763 ,  0.18012889, -1.912227  ],\n",
       "        [ 0.8787625 ,  0.00801743, -1.668448  , -0.34690788],\n",
       "        [ 0.5223749 ,  0.60135025,  0.661718  ,  0.85360104],\n",
       "        [-0.5808076 ,  0.39338842, -2.9029624 ,  0.9015486 ],\n",
       "        [-0.34181672,  0.25451642, -0.01870758, -0.13429973],\n",
       "        [ 0.51492554, -0.5277994 , -0.02577782,  0.0768648 ],\n",
       "        [-0.61691374, -0.0548966 , -0.35278717, -0.20526095],\n",
       "        [ 0.23113224, -0.596352  ,  0.28020793,  0.46288857],\n",
       "        [ 0.33384016, -0.8576898 ,  0.22644633,  0.6390262 ]],\n",
       "       dtype=float32),\n",
       " 'ch3': array([[ 0.30990645, -0.03820843, -0.4640454 ,  0.07549594],\n",
       "        [ 0.30383387, -0.4515706 ,  0.41504017, -0.36513945],\n",
       "        [-1.4057235 , -2.2666337 ,  0.19071034, -1.9327822 ],\n",
       "        [ 0.8878483 , -0.02868497, -1.6907102 , -0.37867212],\n",
       "        [ 0.1779209 ,  0.33558282,  0.88241315,  0.5694883 ],\n",
       "        [-0.57259387,  0.38270727, -2.8662248 ,  0.9106305 ],\n",
       "        [-0.32591304,  0.2698779 ,  0.00347093, -0.1122435 ],\n",
       "        [ 0.54447794, -0.5071244 , -0.01122569,  0.07322127],\n",
       "        [-0.5796378 , -0.0493436 , -0.3393774 , -0.19918576],\n",
       "        [ 0.23020057, -0.5947961 ,  0.28959963,  0.48046827],\n",
       "        [ 0.34490368, -0.85210115,  0.25144202,  0.6141539 ]],\n",
       "       dtype=float32),\n",
       " 'ch4': array([[ 0.30990645, -0.03820843, -0.4640454 ,  0.07549594],\n",
       "        [ 0.30383387, -0.4515706 ,  0.41504017, -0.36513945],\n",
       "        [-1.4057235 , -2.2666337 ,  0.19071034, -1.9327822 ],\n",
       "        [ 0.8878483 , -0.02868497, -1.6907102 , -0.37867212],\n",
       "        [ 0.1779209 ,  0.33558282,  0.88241315,  0.5694883 ],\n",
       "        [-0.57259387,  0.38270727, -2.8662248 ,  0.9106305 ],\n",
       "        [-0.32591304,  0.2698779 ,  0.00347093, -0.1122435 ],\n",
       "        [ 0.54447794, -0.5071244 , -0.01122569,  0.07322127],\n",
       "        [-0.5796378 , -0.0493436 , -0.3393774 , -0.19918576],\n",
       "        [ 0.23020057, -0.5947961 ,  0.28959963,  0.48046827],\n",
       "        [ 0.34490368, -0.85210115,  0.25144202,  0.6141539 ]],\n",
       "       dtype=float32),\n",
       " 'ch5': array([[ 0.2754641 , -0.07923441, -0.4493305 ,  0.01728123],\n",
       "        [ 0.3103391 , -0.40044683,  0.39582956, -0.31698862],\n",
       "        [-1.3666438 , -2.2423763 ,  0.18012889, -1.912227  ],\n",
       "        [ 0.8787625 ,  0.00801743, -1.668448  , -0.34690788],\n",
       "        [-0.91890365, -0.74521035,  0.14126253, -0.37359113],\n",
       "        [-0.57259387,  0.38270727, -2.8662248 ,  0.9106305 ],\n",
       "        [-0.32591304,  0.2698779 ,  0.00347093, -0.1122435 ],\n",
       "        [ 0.54447794, -0.5071244 , -0.01122569,  0.07322127],\n",
       "        [-0.5796378 , -0.0493436 , -0.3393774 , -0.19918576],\n",
       "        [ 0.23020057, -0.5947961 ,  0.28959963,  0.48046827],\n",
       "        [ 0.34490368, -0.85210115,  0.25144202,  0.6141539 ]],\n",
       "       dtype=float32),\n",
       " 'ch6': array([[ 0.30990645, -0.03820843, -0.4640454 ,  0.07549594],\n",
       "        [ 0.30383387, -0.4515706 ,  0.41504017, -0.36513945],\n",
       "        [-1.4057235 , -2.2666337 ,  0.19071034, -1.9327822 ],\n",
       "        [ 0.8878483 , -0.02868497, -1.6907102 , -0.37867212],\n",
       "        [-0.9227962 , -0.7363963 ,  0.14522964, -0.36295435],\n",
       "        [-0.5808076 ,  0.39338842, -2.9029624 ,  0.9015486 ],\n",
       "        [-0.34181672,  0.25451642, -0.01870758, -0.13429973],\n",
       "        [ 0.51492554, -0.5277994 , -0.02577782,  0.0768648 ],\n",
       "        [-0.61691374, -0.0548966 , -0.35278717, -0.20526095],\n",
       "        [ 0.23113224, -0.596352  ,  0.28020793,  0.46288857],\n",
       "        [ 0.33384016, -0.8576898 ,  0.22644633,  0.6390262 ]],\n",
       "       dtype=float32)}"
      ]
     },
     "execution_count": 29,
     "metadata": {},
     "output_type": "execute_result"
    }
   ],
   "source": [
    "ch_dict"
   ]
  },
  {
   "cell_type": "code",
   "execution_count": 30,
   "id": "dcd47044",
   "metadata": {},
   "outputs": [
    {
     "data": {
      "text/plain": [
       "['ch1', 'ch2', 'ch3', 'ch4', 'ch5', 'ch6']"
      ]
     },
     "execution_count": 30,
     "metadata": {},
     "output_type": "execute_result"
    }
   ],
   "source": [
    "ch_list"
   ]
  },
  {
   "cell_type": "code",
   "execution_count": 31,
   "id": "9916eac8",
   "metadata": {},
   "outputs": [
    {
     "name": "stdout",
     "output_type": "stream",
     "text": [
      "75/75 [==============================] - 0s 1ms/step\n",
      "0.944\n",
      "75/75 [==============================] - 0s 1ms/step\n",
      "0.9646666666666667\n",
      "75/75 [==============================] - 0s 851us/step\n",
      "0.976\n",
      "75/75 [==============================] - 0s 1ms/step\n",
      "0.9766666666666667\n",
      "75/75 [==============================] - 0s 853us/step\n",
      "0.9786666666666667\n",
      "75/75 [==============================] - 0s 851us/step\n",
      "0.9786666666666667\n"
     ]
    }
   ],
   "source": [
    "for i in range(6):\n",
    "    fitness(ch[i],model,x_test,y_test)\n",
    "    "
   ]
  },
  {
   "cell_type": "code",
   "execution_count": 32,
   "id": "96af09c3",
   "metadata": {},
   "outputs": [
    {
     "data": {
      "text/plain": [
       "[0.9786666666666667, 'ch6']"
      ]
     },
     "execution_count": 32,
     "metadata": {},
     "output_type": "execute_result"
    }
   ],
   "source": [
    "fitness_score.sort(key=lambda x:x[1],reverse = True)\n",
    "fitness_score[0]"
   ]
  },
  {
   "cell_type": "markdown",
   "id": "a26cca1e",
   "metadata": {},
   "source": [
    "after updating the chromosomes(i.e., weights in this case) using GA we are selecting the best set of weights which here is ch6"
   ]
  },
  {
   "cell_type": "code",
   "execution_count": 33,
   "id": "1de98e01",
   "metadata": {},
   "outputs": [],
   "source": [
    "c=0\n",
    "for layer in model.layers:\n",
    "    if c==1:\n",
    "        bias = layer.get_weights()[1]\n",
    "        layer.set_weights([ch_dict['ch6'],bias])\n",
    "    c+=1"
   ]
  },
  {
   "cell_type": "markdown",
   "id": "83cc23dc",
   "metadata": {},
   "source": [
    "final weights of the hidden layer after GA"
   ]
  },
  {
   "cell_type": "code",
   "execution_count": 34,
   "id": "0e63db64",
   "metadata": {},
   "outputs": [
    {
     "name": "stdout",
     "output_type": "stream",
     "text": [
      "Weights of the different layers after training : \n",
      "hidden_layer\n",
      "[array([[ 0.30990645, -0.03820843, -0.4640454 ,  0.07549594],\n",
      "       [ 0.30383387, -0.4515706 ,  0.41504017, -0.36513945],\n",
      "       [-1.4057235 , -2.2666337 ,  0.19071034, -1.9327822 ],\n",
      "       [ 0.8878483 , -0.02868497, -1.6907102 , -0.37867212],\n",
      "       [-0.9227962 , -0.7363963 ,  0.14522964, -0.36295435],\n",
      "       [-0.5808076 ,  0.39338842, -2.9029624 ,  0.9015486 ],\n",
      "       [-0.34181672,  0.25451642, -0.01870758, -0.13429973],\n",
      "       [ 0.51492554, -0.5277994 , -0.02577782,  0.0768648 ],\n",
      "       [-0.61691374, -0.0548966 , -0.35278717, -0.20526095],\n",
      "       [ 0.23113224, -0.596352  ,  0.28020793,  0.46288857],\n",
      "       [ 0.33384016, -0.8576898 ,  0.22644633,  0.6390262 ]],\n",
      "      dtype=float32), array([ 2.0138314,  2.0139055, -1.018146 ,  1.6503183], dtype=float32)]\n"
     ]
    }
   ],
   "source": [
    "c=0\n",
    "print('Weights of the different layers after training : ')\n",
    "for layer in model.layers:\n",
    "    if c==1:\n",
    "        print(layer.name)\n",
    "        print(layer.get_weights())  \n",
    "    c +=1"
   ]
  },
  {
   "cell_type": "code",
   "execution_count": 35,
   "id": "e79d4bcf",
   "metadata": {},
   "outputs": [
    {
     "name": "stdout",
     "output_type": "stream",
     "text": [
      "75/75 [==============================] - 0s 1ms/step\n",
      "0.9786666666666667\n"
     ]
    }
   ],
   "source": [
    "y_pred = model.predict(x_test, batch_size=20)\n",
    "y_pred = np.where(y_pred>=0.5,1,0)\n",
    "print(accuracy_score(y_pred,y_test))"
   ]
  },
  {
   "cell_type": "code",
   "execution_count": null,
   "id": "9e43f7ae",
   "metadata": {},
   "outputs": [],
   "source": []
  }
 ],
 "metadata": {
  "kernelspec": {
   "display_name": "Python 3 (ipykernel)",
   "language": "python",
   "name": "python3"
  },
  "language_info": {
   "codemirror_mode": {
    "name": "ipython",
    "version": 3
   },
   "file_extension": ".py",
   "mimetype": "text/x-python",
   "name": "python",
   "nbconvert_exporter": "python",
   "pygments_lexer": "ipython3",
   "version": "3.9.13"
  }
 },
 "nbformat": 4,
 "nbformat_minor": 5
}
