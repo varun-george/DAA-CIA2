{
 "cells": [
  {
   "cell_type": "markdown",
   "id": "a5d8f75e",
   "metadata": {},
   "source": [
    "### Neural Nets"
   ]
  },
  {
   "cell_type": "code",
   "execution_count": 1,
   "id": "a4c914f6",
   "metadata": {},
   "outputs": [],
   "source": [
    "import pandas as pd\n",
    "import numpy as np"
   ]
  },
  {
   "cell_type": "code",
   "execution_count": 2,
   "id": "150047ce",
   "metadata": {},
   "outputs": [],
   "source": [
    "df = pd.read_csv(r\"C:\\Users\\varun george\\OneDrive\\Desktop\\SNU\\4th sem\\mlt\\datasets\\Bank_Personal_Loan_Modelling.csv\")"
   ]
  },
  {
   "cell_type": "code",
   "execution_count": 3,
   "id": "e261ad0e",
   "metadata": {},
   "outputs": [],
   "source": [
    "df['Experience'] = abs(df['Experience'])"
   ]
  },
  {
   "cell_type": "code",
   "execution_count": 4,
   "id": "59988b1b",
   "metadata": {},
   "outputs": [
    {
     "data": {
      "text/html": [
       "<div>\n",
       "<style scoped>\n",
       "    .dataframe tbody tr th:only-of-type {\n",
       "        vertical-align: middle;\n",
       "    }\n",
       "\n",
       "    .dataframe tbody tr th {\n",
       "        vertical-align: top;\n",
       "    }\n",
       "\n",
       "    .dataframe thead th {\n",
       "        text-align: right;\n",
       "    }\n",
       "</style>\n",
       "<table border=\"1\" class=\"dataframe\">\n",
       "  <thead>\n",
       "    <tr style=\"text-align: right;\">\n",
       "      <th></th>\n",
       "      <th>ID</th>\n",
       "      <th>Age</th>\n",
       "      <th>Experience</th>\n",
       "      <th>Income</th>\n",
       "      <th>ZIP Code</th>\n",
       "      <th>Family</th>\n",
       "      <th>CCAvg</th>\n",
       "      <th>Education</th>\n",
       "      <th>Mortgage</th>\n",
       "      <th>Personal Loan</th>\n",
       "      <th>Securities Account</th>\n",
       "      <th>CD Account</th>\n",
       "      <th>Online</th>\n",
       "      <th>CreditCard</th>\n",
       "      <th>target</th>\n",
       "    </tr>\n",
       "  </thead>\n",
       "  <tbody>\n",
       "    <tr>\n",
       "      <th>0</th>\n",
       "      <td>1</td>\n",
       "      <td>25</td>\n",
       "      <td>1</td>\n",
       "      <td>49</td>\n",
       "      <td>91107</td>\n",
       "      <td>4</td>\n",
       "      <td>1.6</td>\n",
       "      <td>1</td>\n",
       "      <td>0</td>\n",
       "      <td>0</td>\n",
       "      <td>1</td>\n",
       "      <td>0</td>\n",
       "      <td>0</td>\n",
       "      <td>0</td>\n",
       "      <td>0</td>\n",
       "    </tr>\n",
       "    <tr>\n",
       "      <th>1</th>\n",
       "      <td>2</td>\n",
       "      <td>45</td>\n",
       "      <td>19</td>\n",
       "      <td>34</td>\n",
       "      <td>90089</td>\n",
       "      <td>3</td>\n",
       "      <td>1.5</td>\n",
       "      <td>1</td>\n",
       "      <td>0</td>\n",
       "      <td>0</td>\n",
       "      <td>1</td>\n",
       "      <td>0</td>\n",
       "      <td>0</td>\n",
       "      <td>0</td>\n",
       "      <td>0</td>\n",
       "    </tr>\n",
       "    <tr>\n",
       "      <th>2</th>\n",
       "      <td>3</td>\n",
       "      <td>39</td>\n",
       "      <td>15</td>\n",
       "      <td>11</td>\n",
       "      <td>94720</td>\n",
       "      <td>1</td>\n",
       "      <td>1.0</td>\n",
       "      <td>1</td>\n",
       "      <td>0</td>\n",
       "      <td>0</td>\n",
       "      <td>0</td>\n",
       "      <td>0</td>\n",
       "      <td>0</td>\n",
       "      <td>0</td>\n",
       "      <td>0</td>\n",
       "    </tr>\n",
       "    <tr>\n",
       "      <th>3</th>\n",
       "      <td>4</td>\n",
       "      <td>35</td>\n",
       "      <td>9</td>\n",
       "      <td>100</td>\n",
       "      <td>94112</td>\n",
       "      <td>1</td>\n",
       "      <td>2.7</td>\n",
       "      <td>2</td>\n",
       "      <td>0</td>\n",
       "      <td>0</td>\n",
       "      <td>0</td>\n",
       "      <td>0</td>\n",
       "      <td>0</td>\n",
       "      <td>0</td>\n",
       "      <td>0</td>\n",
       "    </tr>\n",
       "    <tr>\n",
       "      <th>4</th>\n",
       "      <td>5</td>\n",
       "      <td>35</td>\n",
       "      <td>8</td>\n",
       "      <td>45</td>\n",
       "      <td>91330</td>\n",
       "      <td>4</td>\n",
       "      <td>1.0</td>\n",
       "      <td>2</td>\n",
       "      <td>0</td>\n",
       "      <td>0</td>\n",
       "      <td>0</td>\n",
       "      <td>0</td>\n",
       "      <td>0</td>\n",
       "      <td>1</td>\n",
       "      <td>0</td>\n",
       "    </tr>\n",
       "  </tbody>\n",
       "</table>\n",
       "</div>"
      ],
      "text/plain": [
       "   ID  Age  Experience  Income  ZIP Code  Family  CCAvg  Education  Mortgage  \\\n",
       "0   1   25           1      49     91107       4    1.6          1         0   \n",
       "1   2   45          19      34     90089       3    1.5          1         0   \n",
       "2   3   39          15      11     94720       1    1.0          1         0   \n",
       "3   4   35           9     100     94112       1    2.7          2         0   \n",
       "4   5   35           8      45     91330       4    1.0          2         0   \n",
       "\n",
       "   Personal Loan  Securities Account  CD Account  Online  CreditCard  target  \n",
       "0              0                   1           0       0           0       0  \n",
       "1              0                   1           0       0           0       0  \n",
       "2              0                   0           0       0           0       0  \n",
       "3              0                   0           0       0           0       0  \n",
       "4              0                   0           0       0           1       0  "
      ]
     },
     "execution_count": 4,
     "metadata": {},
     "output_type": "execute_result"
    }
   ],
   "source": [
    "df['target'] = df['Personal Loan']\n",
    "df.head()"
   ]
  },
  {
   "cell_type": "code",
   "execution_count": 5,
   "id": "8bd8f3c8",
   "metadata": {},
   "outputs": [],
   "source": [
    "df.drop('ID',axis=1,inplace=True)\n",
    "df.drop('ZIP Code',axis=1,inplace=True)\n",
    "df.drop('Personal Loan',axis=1,inplace=True)\n"
   ]
  },
  {
   "cell_type": "code",
   "execution_count": 6,
   "id": "882ed4fa",
   "metadata": {},
   "outputs": [
    {
     "data": {
      "text/plain": [
       "(5000, 12)"
      ]
     },
     "execution_count": 6,
     "metadata": {},
     "output_type": "execute_result"
    }
   ],
   "source": [
    "df.shape"
   ]
  },
  {
   "cell_type": "code",
   "execution_count": 7,
   "id": "13109467",
   "metadata": {},
   "outputs": [],
   "source": [
    "x = df.iloc[:,:-1].values\n",
    "y= df.iloc[:,-1].values"
   ]
  },
  {
   "cell_type": "code",
   "execution_count": 8,
   "id": "91952aa5",
   "metadata": {},
   "outputs": [],
   "source": [
    "from sklearn.model_selection import train_test_split\n",
    "\n",
    "x_train,x_test,y_train,y_test = train_test_split(x,y,test_size =0.3,random_state =0)\n"
   ]
  },
  {
   "cell_type": "code",
   "execution_count": 9,
   "id": "6cd842c1",
   "metadata": {},
   "outputs": [],
   "source": [
    "from sklearn.preprocessing import StandardScaler\n",
    "sc = StandardScaler()\n",
    "x_train = sc.fit_transform(x_train)\n",
    "x_test = sc.transform(x_test)"
   ]
  },
  {
   "cell_type": "code",
   "execution_count": 10,
   "id": "1a19779d",
   "metadata": {},
   "outputs": [],
   "source": [
    "from tensorflow import keras\n",
    "from tensorflow.keras import layers\n",
    "import tensorflow as tf\n",
    "from keras.models import Sequential"
   ]
  },
  {
   "cell_type": "code",
   "execution_count": 14,
   "id": "4f15bc63",
   "metadata": {},
   "outputs": [],
   "source": [
    "inputs = keras.Input(shape=(11,),name = 'input_layer')\n",
    "\n",
    "dense = layers.Dense(4, activation=\"relu\" , name = 'hidden_layer')\n",
    "x = dense(inputs) #hidden layer 1\n",
    "\n",
    "dense2 = layers.Dense(1, activation=\"sigmoid\" , name = 'output_layer')\n",
    "outputs = dense2(x)\n",
    "\n",
    "model = keras.Model(inputs=inputs, outputs=outputs, name=\"neural_net_model\")\n",
    "\n"
   ]
  },
  {
   "cell_type": "code",
   "execution_count": 15,
   "id": "d2196a28",
   "metadata": {},
   "outputs": [],
   "source": [
    "model.compile(optimizer=tf.keras.optimizers.Adam(learning_rate=0.003),\n",
    "              loss=tf.keras.losses.BinaryCrossentropy(),\n",
    "              metrics=[tf.keras.metrics.BinaryAccuracy()])"
   ]
  },
  {
   "cell_type": "code",
   "execution_count": 16,
   "id": "d2a1dd6d",
   "metadata": {},
   "outputs": [
    {
     "name": "stdout",
     "output_type": "stream",
     "text": [
      "Model: \"neural_net_model\"\n",
      "_________________________________________________________________\n",
      " Layer (type)                Output Shape              Param #   \n",
      "=================================================================\n",
      " input_layer (InputLayer)    [(None, 11)]              0         \n",
      "                                                                 \n",
      " hidden_layer (Dense)        (None, 4)                 48        \n",
      "                                                                 \n",
      " output_layer (Dense)        (None, 1)                 5         \n",
      "                                                                 \n",
      "=================================================================\n",
      "Total params: 53\n",
      "Trainable params: 53\n",
      "Non-trainable params: 0\n",
      "_________________________________________________________________\n"
     ]
    }
   ],
   "source": [
    "model.summary()"
   ]
  },
  {
   "cell_type": "code",
   "execution_count": 17,
   "id": "c85d3211",
   "metadata": {},
   "outputs": [
    {
     "name": "stdout",
     "output_type": "stream",
     "text": [
      "Weights of the different layers : \n",
      "input_layer\n",
      "[]\n",
      "hidden_layer\n",
      "[array([[ 0.33645505,  0.11582494, -0.45090222,  0.3709591 ],\n",
      "       [-0.10306501, -0.02670628,  0.40237135, -0.4934578 ],\n",
      "       [-0.580031  ,  0.2076692 ,  0.6223355 ,  0.36581403],\n",
      "       [ 0.15005088,  0.27816015,  0.03630477, -0.6242012 ],\n",
      "       [-0.46844006,  0.20470321, -0.04033339, -0.19051817],\n",
      "       [-0.43428224,  0.19641358,  0.4995007 ,  0.12318629],\n",
      "       [-0.16641843,  0.20332968,  0.51900965,  0.43221813],\n",
      "       [-0.2985687 ,  0.3014928 ,  0.5179464 ,  0.1555425 ],\n",
      "       [ 0.40077466, -0.501963  , -0.11004621,  0.5344382 ],\n",
      "       [ 0.18113953, -0.5443647 , -0.24338031, -0.61798096],\n",
      "       [-0.14294237,  0.2982279 ,  0.274032  ,  0.5011824 ]],\n",
      "      dtype=float32), array([0., 0., 0., 0.], dtype=float32)]\n",
      "output_layer\n",
      "[array([[ 0.80341315],\n",
      "       [-0.75083745],\n",
      "       [-0.08132398],\n",
      "       [-0.9763055 ]], dtype=float32), array([0.], dtype=float32)]\n"
     ]
    }
   ],
   "source": [
    "print('Weights of the different layers : ')\n",
    "for layer in model.layers:\n",
    "    print(layer.name)\n",
    "    print(layer.get_weights())"
   ]
  },
  {
   "cell_type": "code",
   "execution_count": 19,
   "id": "aebd83a8",
   "metadata": {},
   "outputs": [
    {
     "data": {
      "text/plain": [
       "<keras.callbacks.History at 0x1e60d810850>"
      ]
     },
     "execution_count": 19,
     "metadata": {},
     "output_type": "execute_result"
    }
   ],
   "source": [
    "model.fit(x_train, y_train, epochs=20, batch_size=20,verbose=0)"
   ]
  },
  {
   "cell_type": "code",
   "execution_count": 20,
   "id": "777a3964",
   "metadata": {},
   "outputs": [
    {
     "name": "stdout",
     "output_type": "stream",
     "text": [
      "Weights of the different layers after training : \n",
      "input_layer\n",
      "[]\n",
      "hidden_layer\n",
      "[array([[ 0.31154627,  0.20052435, -0.391657  ,  0.44604838],\n",
      "       [-0.16008617, -0.16820318,  0.5160203 , -0.32476264],\n",
      "       [-0.19203378, -1.5656801 ,  1.8480847 , -0.1150512 ],\n",
      "       [-1.2204787 ,  0.55642784,  1.1696823 , -1.2594002 ],\n",
      "       [-0.07169381, -0.69250095, -0.15054332, -0.11399932],\n",
      "       [-0.5030396 ,  0.9306625 ,  1.6855911 , -1.6101255 ],\n",
      "       [ 0.04388902,  0.04305585,  0.21922807,  0.17819619],\n",
      "       [ 0.06508789,  0.05033843, -0.24394134,  0.05387635],\n",
      "       [ 0.66253746, -0.14815833,  0.10411052, -0.18112364],\n",
      "       [ 0.01101929,  0.06029871,  0.06093838,  0.2691946 ],\n",
      "       [-0.71359515, -0.07844865, -0.5316753 , -0.09327744]],\n",
      "      dtype=float32), array([-0.80448914,  1.6755666 ,  0.13007104,  0.67466605], dtype=float32)]\n",
      "output_layer\n",
      "[array([[ 1.269972 ],\n",
      "       [-2.8713167],\n",
      "       [ 1.1737232],\n",
      "       [-1.5143452]], dtype=float32), array([-0.5640317], dtype=float32)]\n"
     ]
    }
   ],
   "source": [
    "chromosome1 =[]\n",
    "c=0\n",
    "print('Weights of the different layers after training : ')\n",
    "for layer in model.layers:\n",
    "    print(layer.name)\n",
    "    print(layer.get_weights())\n",
    "    if c==1:\n",
    "        chromosome1 = layer.get_weights()    \n",
    "    c +=1\n",
    "    "
   ]
  },
  {
   "cell_type": "markdown",
   "id": "50aee346",
   "metadata": {},
   "source": [
    "### Genetic Algorithm"
   ]
  },
  {
   "cell_type": "markdown",
   "id": "03096c08",
   "metadata": {},
   "source": [
    "#### initial populations"
   ]
  },
  {
   "cell_type": "code",
   "execution_count": 21,
   "id": "51347b57",
   "metadata": {},
   "outputs": [
    {
     "data": {
      "text/plain": [
       "array([[ 0.31154627,  0.20052435, -0.391657  ,  0.44604838],\n",
       "       [-0.16008617, -0.16820318,  0.5160203 , -0.32476264],\n",
       "       [-0.19203378, -1.5656801 ,  1.8480847 , -0.1150512 ],\n",
       "       [-1.2204787 ,  0.55642784,  1.1696823 , -1.2594002 ],\n",
       "       [-0.07169381, -0.69250095, -0.15054332, -0.11399932],\n",
       "       [-0.5030396 ,  0.9306625 ,  1.6855911 , -1.6101255 ],\n",
       "       [ 0.04388902,  0.04305585,  0.21922807,  0.17819619],\n",
       "       [ 0.06508789,  0.05033843, -0.24394134,  0.05387635],\n",
       "       [ 0.66253746, -0.14815833,  0.10411052, -0.18112364],\n",
       "       [ 0.01101929,  0.06029871,  0.06093838,  0.2691946 ],\n",
       "       [-0.71359515, -0.07844865, -0.5316753 , -0.09327744]],\n",
       "      dtype=float32)"
      ]
     },
     "execution_count": 21,
     "metadata": {},
     "output_type": "execute_result"
    }
   ],
   "source": [
    "ch1=chromosome1[0]\n",
    "ch1"
   ]
  },
  {
   "cell_type": "code",
   "execution_count": 22,
   "id": "71aacbc8",
   "metadata": {},
   "outputs": [],
   "source": [
    "chromosome2=[]\n",
    "chromosome3=[]\n",
    "chromosome4=[]\n",
    "chromosome5=[]\n",
    "chromosome6=[]\n",
    "\n",
    "chromosome_list= [chromosome2,chromosome3,chromosome4,chromosome5,chromosome6]"
   ]
  },
  {
   "cell_type": "code",
   "execution_count": 23,
   "id": "5d344b32",
   "metadata": {},
   "outputs": [],
   "source": [
    "for i in range(5):\n",
    "    model.fit(x_train, y_train, epochs=20, batch_size=20,verbose=0)\n",
    "    c=0\n",
    "    for layer in model.layers:\n",
    "        if c==1:\n",
    "            chromosome_list[i] = layer.get_weights() \n",
    "        c+=1\n",
    "    "
   ]
  },
  {
   "cell_type": "code",
   "execution_count": 24,
   "id": "f73d28b6",
   "metadata": {},
   "outputs": [],
   "source": [
    "ch2=chromosome_list[0][0]\n",
    "ch3=chromosome_list[1][0]\n",
    "ch4=chromosome_list[2][0]\n",
    "ch5=chromosome_list[3][0]\n",
    "ch6=chromosome_list[4][0]"
   ]
  },
  {
   "cell_type": "markdown",
   "id": "5fff4f48",
   "metadata": {},
   "source": [
    "#### applying fitness function"
   ]
  },
  {
   "cell_type": "code",
   "execution_count": 25,
   "id": "f1fef089",
   "metadata": {},
   "outputs": [],
   "source": [
    "from sklearn.metrics import accuracy_score"
   ]
  },
  {
   "cell_type": "code",
   "execution_count": 26,
   "id": "7c7b0746",
   "metadata": {},
   "outputs": [],
   "source": [
    "fitness_score=[]\n",
    "ch_list=['ch1','ch2','ch3','ch4','ch5','ch6']\n",
    "ch_dict = {'ch1':ch1,'ch2':ch2,'ch3':ch3,'ch4':ch4,'ch5':ch5,'ch6':ch6}"
   ]
  },
  {
   "cell_type": "code",
   "execution_count": 27,
   "id": "d72c3793",
   "metadata": {},
   "outputs": [],
   "source": [
    "def fitness(ch,model,x_test,y_test):\n",
    "    # Setting new weights\n",
    "    c=0\n",
    "    for layer in model.layers:        \n",
    "        if c==1:\n",
    "            bias = layer.get_weights()[1]\n",
    "            layer.set_weights([ch,bias])\n",
    "        c+=1\n",
    "    y_pred = model.predict(x_test, batch_size=20)\n",
    "    y_pred = np.where(y_pred>=0.5,1,0)\n",
    "    print(accuracy_score(y_pred,y_test))\n",
    "    fitness_score.append([accuracy_score(y_pred,y_test),ch_list[i]])\n",
    "\n",
    "    "
   ]
  },
  {
   "cell_type": "code",
   "execution_count": 28,
   "id": "83b9fbd0",
   "metadata": {},
   "outputs": [],
   "source": [
    "ch=[ch1,ch2,ch3,ch4,ch5,ch6]"
   ]
  },
  {
   "cell_type": "markdown",
   "id": "e62fad20",
   "metadata": {},
   "source": [
    "#### crossover"
   ]
  },
  {
   "cell_type": "code",
   "execution_count": 29,
   "id": "968d2481",
   "metadata": {},
   "outputs": [],
   "source": [
    "def crossover(arr1,arr2):\n",
    "    crossover_point = 5\n",
    "    child1 = np.concatenate([arr1[:crossover_point],arr2[crossover_point:11]])\n",
    "    child2 = np.concatenate([arr2[:crossover_point],arr1[crossover_point:11]])\n",
    "    return child1,child2"
   ]
  },
  {
   "cell_type": "markdown",
   "id": "efd6f8ab",
   "metadata": {},
   "source": [
    "#### mutate\n"
   ]
  },
  {
   "cell_type": "code",
   "execution_count": 35,
   "id": "9d7c574b",
   "metadata": {},
   "outputs": [],
   "source": [
    "import random\n",
    "def mutate(child1,child2):\n",
    "    mut1 = np.random.uniform(0,1,4)\n",
    "    mut2 = np.random.uniform(0,1,4)\n",
    "    mut_point = random.randint(0,10)\n",
    "    #print(mut_point)\n",
    "    child1_mut = child1\n",
    "    child2_mut = child2\n",
    "    \n",
    "    child1_mut[mut_point]=mut1\n",
    "    child2_mut[mut_point]=mut2\n",
    "    \n",
    "    return child1,child1_mut,child2,child2_mut"
   ]
  },
  {
   "cell_type": "markdown",
   "id": "31a9c970",
   "metadata": {},
   "source": [
    "#### repopulating the initial pop"
   ]
  },
  {
   "cell_type": "code",
   "execution_count": 31,
   "id": "75b4820d",
   "metadata": {},
   "outputs": [],
   "source": [
    "def repop(child_list,ch_dict,fitness_score,ch):\n",
    "    fitness_score.sort(key = lambda x:x[0],reverse = False)\n",
    "    for i in range(4):\n",
    "        ch_dict[fitness_score[i][1]]=child_list[i]\n",
    "    ch = ch_dict.values()"
   ]
  },
  {
   "cell_type": "markdown",
   "id": "703f1257",
   "metadata": {},
   "source": [
    "#### grouping all the functions into 1 and running for 'n' generations"
   ]
  },
  {
   "cell_type": "code",
   "execution_count": 37,
   "id": "299e7340",
   "metadata": {},
   "outputs": [
    {
     "name": "stdout",
     "output_type": "stream",
     "text": [
      "75/75 [==============================] - 0s 2ms/step\n",
      "0.936\n",
      "75/75 [==============================] - 0s 2ms/step\n",
      "0.97\n",
      "75/75 [==============================] - 0s 2ms/step\n",
      "0.9786666666666667\n",
      "75/75 [==============================] - 0s 2ms/step\n",
      "0.9806666666666667\n",
      "75/75 [==============================] - 0s 2ms/step\n",
      "0.982\n",
      "75/75 [==============================] - 0s 2ms/step\n",
      "0.9813333333333333\n",
      "5\n",
      "75/75 [==============================] - 0s 2ms/step\n",
      "0.936\n",
      "75/75 [==============================] - 0s 2ms/step\n",
      "0.97\n",
      "75/75 [==============================] - 0s 2ms/step\n",
      "0.9786666666666667\n",
      "75/75 [==============================] - 0s 2ms/step\n",
      "0.9806666666666667\n",
      "75/75 [==============================] - 0s 2ms/step\n",
      "0.982\n",
      "75/75 [==============================] - 0s 2ms/step\n",
      "0.9813333333333333\n",
      "6\n",
      "75/75 [==============================] - 0s 2ms/step\n",
      "0.936\n",
      "75/75 [==============================] - 0s 1ms/step\n",
      "0.97\n",
      "75/75 [==============================] - 0s 1ms/step\n",
      "0.9786666666666667\n",
      "75/75 [==============================] - 0s 2ms/step\n",
      "0.9806666666666667\n",
      "75/75 [==============================] - 0s 2ms/step\n",
      "0.982\n",
      "75/75 [==============================] - 0s 2ms/step\n",
      "0.9813333333333333\n",
      "4\n",
      "75/75 [==============================] - 0s 1ms/step\n",
      "0.936\n",
      "75/75 [==============================] - 0s 2ms/step\n",
      "0.97\n",
      "75/75 [==============================] - 0s 2ms/step\n",
      "0.9786666666666667\n",
      "75/75 [==============================] - 0s 2ms/step\n",
      "0.9806666666666667\n",
      "75/75 [==============================] - 0s 1ms/step\n",
      "0.982\n",
      "75/75 [==============================] - 0s 2ms/step\n",
      "0.9813333333333333\n",
      "5\n",
      "75/75 [==============================] - 0s 2ms/step\n",
      "0.936\n",
      "75/75 [==============================] - 0s 2ms/step\n",
      "0.97\n",
      "75/75 [==============================] - 0s 2ms/step\n",
      "0.9786666666666667\n",
      "75/75 [==============================] - 0s 2ms/step\n",
      "0.9806666666666667\n",
      "75/75 [==============================] - 0s 2ms/step\n",
      "0.982\n",
      "75/75 [==============================] - 0s 2ms/step\n",
      "0.9813333333333333\n",
      "9\n",
      "75/75 [==============================] - 0s 2ms/step\n",
      "0.936\n",
      "75/75 [==============================] - 0s 1ms/step\n",
      "0.97\n",
      "75/75 [==============================] - 0s 2ms/step\n",
      "0.9786666666666667\n",
      "75/75 [==============================] - 0s 2ms/step\n",
      "0.9806666666666667\n",
      "75/75 [==============================] - 0s 2ms/step\n",
      "0.982\n",
      "75/75 [==============================] - 0s 2ms/step\n",
      "0.9813333333333333\n",
      "2\n"
     ]
    }
   ],
   "source": [
    "total_gen = 6\n",
    "\n",
    "while(total_gen>0):\n",
    "    #finding the fitness score of initial pop\n",
    "    for i in range(6):\n",
    "        fitness(ch[i],model,x_test,y_test)\n",
    "    fitness_score.sort(key = lambda x:x[0],reverse = True) #finding the fitness score of initial pop\n",
    "    \n",
    "    #selecting the parents -> tournament selection\n",
    "    select_parents = fitness_score[:2]\n",
    "    final_sel_parents = []\n",
    "    \n",
    "    #doing one-point crossover\n",
    "    for i in range(len(select_parents)):\n",
    "        final_sel_parents.append(ch_dict[select_parents[i][1]])\n",
    "    child1,child2 = crossover(final_sel_parents[0],final_sel_parents[1])\n",
    "    \n",
    "    #mutating the children\n",
    "    child1,child1_mut,child2,child2_mut = mutate(child1,child2)\n",
    "    child_list = [child1,child1_mut,child2,child2_mut]\n",
    "    \n",
    "    #repopulating the initial population with the children\n",
    "    repop(child_list,ch_dict,fitness_score,ch)\n",
    "    \n",
    "    select_parents=[]\n",
    "    final_sel_parents=[]\n",
    "    child_list=[]\n",
    "    fitness_score=[]\n",
    "    \n",
    "    \n",
    "    total_gen-=1\n",
    "    \n",
    "    "
   ]
  },
  {
   "cell_type": "code",
   "execution_count": 40,
   "id": "efd5cb18",
   "metadata": {},
   "outputs": [
    {
     "data": {
      "text/plain": [
       "{'ch1': array([[ 0.42308125,  0.26068595, -0.49831554,  0.3634083 ],\n",
       "        [-0.16889304, -0.29092962,  0.48983788, -0.2698815 ],\n",
       "        [ 0.6224104 ,  0.22705223,  0.3718533 ,  0.47898614],\n",
       "        [-2.0162184 ,  1.0080371 ,  2.2113283 , -1.5201486 ],\n",
       "        [ 0.04374995, -0.72928774, -0.2713119 , -0.091865  ],\n",
       "        [-1.0225238 ,  1.009232  ,  1.9539744 , -2.6858094 ],\n",
       "        [ 0.01441783,  0.01792034,  0.08394731,  0.03041423],\n",
       "        [ 0.12324622,  0.06276757,  0.0247656 ,  0.16607006],\n",
       "        [ 0.18075624, -0.2880726 , -0.13462675, -0.34770042],\n",
       "        [ 0.07035914,  0.15662725,  0.20233037,  0.36356008],\n",
       "        [-0.5819983 , -0.14359547, -0.6279189 , -0.17397973]],\n",
       "       dtype=float32),\n",
       " 'ch2': array([[ 0.42308125,  0.26068595, -0.49831554,  0.3634083 ],\n",
       "        [-0.16889304, -0.29092962,  0.48983788, -0.2698815 ],\n",
       "        [ 0.6224104 ,  0.22705223,  0.3718533 ,  0.47898614],\n",
       "        [-2.0162184 ,  1.0080371 ,  2.2113283 , -1.5201486 ],\n",
       "        [ 0.04374995, -0.72928774, -0.2713119 , -0.091865  ],\n",
       "        [-1.0225238 ,  1.009232  ,  1.9539744 , -2.6858094 ],\n",
       "        [ 0.01441783,  0.01792034,  0.08394731,  0.03041423],\n",
       "        [ 0.12324622,  0.06276757,  0.0247656 ,  0.16607006],\n",
       "        [ 0.18075624, -0.2880726 , -0.13462675, -0.34770042],\n",
       "        [ 0.07035914,  0.15662725,  0.20233037,  0.36356008],\n",
       "        [-0.5819983 , -0.14359547, -0.6279189 , -0.17397973]],\n",
       "       dtype=float32),\n",
       " 'ch3': array([[ 4.4237122e-01,  2.9505849e-01, -5.0955957e-01,  3.8917235e-01],\n",
       "        [-1.9632383e-01, -2.9268682e-01,  5.0255710e-01, -2.4244098e-01],\n",
       "        [ 5.2092707e-01,  4.3344033e-01,  1.1790008e-01,  2.9270419e-01],\n",
       "        [-2.1620827e+00,  1.0584483e+00,  2.2559102e+00, -1.5987043e+00],\n",
       "        [ 6.0970444e-02, -7.1402347e-01, -2.9804558e-01, -1.0063277e-01],\n",
       "        [-9.5423251e-01,  1.0027432e+00,  1.9266450e+00, -2.6325805e+00],\n",
       "        [-1.5260962e-02, -7.2889647e-04,  6.7574650e-02,  6.0525212e-02],\n",
       "        [ 8.2560547e-02,  6.0964890e-02, -1.0436439e-02,  1.3415922e-01],\n",
       "        [ 2.0979434e-01, -2.8204912e-01, -1.1645596e-01, -3.5382229e-01],\n",
       "        [ 4.5120478e-02,  1.1444646e-01,  1.8288121e-01,  3.2437980e-01],\n",
       "        [-6.0256928e-01, -1.3818477e-01, -6.2721574e-01, -1.5197608e-01]],\n",
       "       dtype=float32),\n",
       " 'ch4': array([[ 4.4237122e-01,  2.9505849e-01, -5.0955957e-01,  3.8917235e-01],\n",
       "        [-1.9632383e-01, -2.9268682e-01,  5.0255710e-01, -2.4244098e-01],\n",
       "        [ 5.2092707e-01,  4.3344033e-01,  1.1790008e-01,  2.9270419e-01],\n",
       "        [-2.1620827e+00,  1.0584483e+00,  2.2559102e+00, -1.5987043e+00],\n",
       "        [ 6.0970444e-02, -7.1402347e-01, -2.9804558e-01, -1.0063277e-01],\n",
       "        [-9.5423251e-01,  1.0027432e+00,  1.9266450e+00, -2.6325805e+00],\n",
       "        [-1.5260962e-02, -7.2889647e-04,  6.7574650e-02,  6.0525212e-02],\n",
       "        [ 8.2560547e-02,  6.0964890e-02, -1.0436439e-02,  1.3415922e-01],\n",
       "        [ 2.0979434e-01, -2.8204912e-01, -1.1645596e-01, -3.5382229e-01],\n",
       "        [ 4.5120478e-02,  1.1444646e-01,  1.8288121e-01,  3.2437980e-01],\n",
       "        [-6.0256928e-01, -1.3818477e-01, -6.2721574e-01, -1.5197608e-01]],\n",
       "       dtype=float32),\n",
       " 'ch5': array([[ 4.2308125e-01,  2.6068595e-01, -4.9831554e-01,  3.6340830e-01],\n",
       "        [-1.6889304e-01, -2.9092962e-01,  4.8983788e-01, -2.6988149e-01],\n",
       "        [-2.4959241e-01, -1.4970423e+00,  1.4876195e+00,  1.8375127e-01],\n",
       "        [-2.0162184e+00,  1.0080371e+00,  2.2113283e+00, -1.5201486e+00],\n",
       "        [ 4.3749947e-02, -7.2928774e-01, -2.7131191e-01, -9.1864996e-02],\n",
       "        [-9.5423251e-01,  1.0027432e+00,  1.9266450e+00, -2.6325805e+00],\n",
       "        [-1.5260962e-02, -7.2889647e-04,  6.7574650e-02,  6.0525212e-02],\n",
       "        [ 8.2560547e-02,  6.0964890e-02, -1.0436439e-02,  1.3415922e-01],\n",
       "        [ 2.0979434e-01, -2.8204912e-01, -1.1645596e-01, -3.5382229e-01],\n",
       "        [ 4.5120478e-02,  1.1444646e-01,  1.8288121e-01,  3.2437980e-01],\n",
       "        [-6.0256928e-01, -1.3818477e-01, -6.2721574e-01, -1.5197608e-01]],\n",
       "       dtype=float32),\n",
       " 'ch6': array([[ 0.44237122,  0.2950585 , -0.5095596 ,  0.38917235],\n",
       "        [-0.19632383, -0.29268682,  0.5025571 , -0.24244098],\n",
       "        [-0.21334115, -1.4826454 ,  1.5065091 ,  0.16069624],\n",
       "        [-2.1620827 ,  1.0584483 ,  2.2559102 , -1.5987043 ],\n",
       "        [ 0.06097044, -0.7140235 , -0.29804558, -0.10063277],\n",
       "        [-1.0225238 ,  1.009232  ,  1.9539744 , -2.6858094 ],\n",
       "        [ 0.01441783,  0.01792034,  0.08394731,  0.03041423],\n",
       "        [ 0.12324622,  0.06276757,  0.0247656 ,  0.16607006],\n",
       "        [ 0.18075624, -0.2880726 , -0.13462675, -0.34770042],\n",
       "        [ 0.07035914,  0.15662725,  0.20233037,  0.36356008],\n",
       "        [-0.5819983 , -0.14359547, -0.6279189 , -0.17397973]],\n",
       "       dtype=float32)}"
      ]
     },
     "execution_count": 40,
     "metadata": {},
     "output_type": "execute_result"
    }
   ],
   "source": [
    "ch_dict"
   ]
  },
  {
   "cell_type": "code",
   "execution_count": 42,
   "id": "dcd47044",
   "metadata": {},
   "outputs": [
    {
     "data": {
      "text/plain": [
       "['ch1', 'ch2', 'ch3', 'ch4', 'ch5', 'ch6']"
      ]
     },
     "execution_count": 42,
     "metadata": {},
     "output_type": "execute_result"
    }
   ],
   "source": [
    "ch_list"
   ]
  },
  {
   "cell_type": "code",
   "execution_count": 43,
   "id": "9916eac8",
   "metadata": {},
   "outputs": [
    {
     "name": "stdout",
     "output_type": "stream",
     "text": [
      "75/75 [==============================] - 0s 1ms/step\n",
      "0.936\n",
      "75/75 [==============================] - 0s 2ms/step\n",
      "0.97\n",
      "75/75 [==============================] - 0s 2ms/step\n",
      "0.9786666666666667\n",
      "75/75 [==============================] - 0s 2ms/step\n",
      "0.9806666666666667\n",
      "75/75 [==============================] - 0s 2ms/step\n",
      "0.982\n",
      "75/75 [==============================] - 0s 2ms/step\n",
      "0.9813333333333333\n"
     ]
    }
   ],
   "source": [
    "for i in range(6):\n",
    "    fitness(ch[i],model,x_test,y_test)\n",
    "    "
   ]
  },
  {
   "cell_type": "code",
   "execution_count": 46,
   "id": "96af09c3",
   "metadata": {},
   "outputs": [
    {
     "data": {
      "text/plain": [
       "[0.9813333333333333, 'ch6']"
      ]
     },
     "execution_count": 46,
     "metadata": {},
     "output_type": "execute_result"
    }
   ],
   "source": [
    "fitness_score.sort(key=lambda x:x[1],reverse = True)\n",
    "fitness_score[0]"
   ]
  },
  {
   "cell_type": "markdown",
   "id": "a26cca1e",
   "metadata": {},
   "source": [
    "after updating the chromosomes(i.e., weights in this case) using GA we are selecting the best set of weights which here is ch6"
   ]
  },
  {
   "cell_type": "code",
   "execution_count": 48,
   "id": "1de98e01",
   "metadata": {},
   "outputs": [],
   "source": [
    "c=0\n",
    "for layer in model.layers:\n",
    "    if c==1:\n",
    "        bias = layer.get_weights()[1]\n",
    "        layer.set_weights([ch_dict['ch6'],bias])\n",
    "    c+=1"
   ]
  },
  {
   "cell_type": "markdown",
   "id": "83cc23dc",
   "metadata": {},
   "source": [
    "final weights of the hidden layer after GA"
   ]
  },
  {
   "cell_type": "code",
   "execution_count": 49,
   "id": "0e63db64",
   "metadata": {},
   "outputs": [
    {
     "name": "stdout",
     "output_type": "stream",
     "text": [
      "Weights of the different layers after training : \n",
      "hidden_layer\n",
      "[array([[ 0.44237122,  0.2950585 , -0.5095596 ,  0.38917235],\n",
      "       [-0.19632383, -0.29268682,  0.5025571 , -0.24244098],\n",
      "       [-0.21334115, -1.4826454 ,  1.5065091 ,  0.16069624],\n",
      "       [-2.1620827 ,  1.0584483 ,  2.2559102 , -1.5987043 ],\n",
      "       [ 0.06097044, -0.7140235 , -0.29804558, -0.10063277],\n",
      "       [-1.0225238 ,  1.009232  ,  1.9539744 , -2.6858094 ],\n",
      "       [ 0.01441783,  0.01792034,  0.08394731,  0.03041423],\n",
      "       [ 0.12324622,  0.06276757,  0.0247656 ,  0.16607006],\n",
      "       [ 0.18075624, -0.2880726 , -0.13462675, -0.34770042],\n",
      "       [ 0.07035914,  0.15662725,  0.20233037,  0.36356008],\n",
      "       [-0.5819983 , -0.14359547, -0.6279189 , -0.17397973]],\n",
      "      dtype=float32), array([-1.5880098,  2.5186577,  1.2115339, -0.5437909], dtype=float32)]\n"
     ]
    }
   ],
   "source": [
    "c=0\n",
    "print('Weights of the different layers after training : ')\n",
    "for layer in model.layers:\n",
    "    if c==1:\n",
    "        print(layer.name)\n",
    "        print(layer.get_weights())  \n",
    "    c +=1"
   ]
  },
  {
   "cell_type": "code",
   "execution_count": null,
   "id": "e79d4bcf",
   "metadata": {},
   "outputs": [],
   "source": []
  }
 ],
 "metadata": {
  "kernelspec": {
   "display_name": "Python 3 (ipykernel)",
   "language": "python",
   "name": "python3"
  },
  "language_info": {
   "codemirror_mode": {
    "name": "ipython",
    "version": 3
   },
   "file_extension": ".py",
   "mimetype": "text/x-python",
   "name": "python",
   "nbconvert_exporter": "python",
   "pygments_lexer": "ipython3",
   "version": "3.9.13"
  }
 },
 "nbformat": 4,
 "nbformat_minor": 5
}
