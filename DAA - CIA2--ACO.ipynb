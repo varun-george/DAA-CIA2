{
 "cells": [
  {
   "cell_type": "markdown",
   "id": "a5d8f75e",
   "metadata": {},
   "source": [
    "### Neural Nets"
   ]
  },
  {
   "cell_type": "code",
   "execution_count": 2,
   "id": "a4c914f6",
   "metadata": {},
   "outputs": [],
   "source": [
    "import pandas as pd\n",
    "import numpy as np"
   ]
  },
  {
   "cell_type": "code",
   "execution_count": 3,
   "id": "150047ce",
   "metadata": {},
   "outputs": [],
   "source": [
    "df = pd.read_csv(r\"C:\\Users\\varun george\\OneDrive\\Desktop\\SNU\\4th sem\\mlt\\datasets\\Bank_Personal_Loan_Modelling.csv\")"
   ]
  },
  {
   "cell_type": "code",
   "execution_count": 5,
   "id": "8fb77792",
   "metadata": {},
   "outputs": [],
   "source": [
    "df = df.drop(columns = [\"ID\",\"ZIP Code\"])\n",
    "x = df.drop(\"Personal Loan\",axis=1)\n",
    "y = df[\"Personal Loan\"]\n",
    "\n",
    "from sklearn.model_selection import train_test_split\n",
    "from sklearn.preprocessing import StandardScaler\n",
    "\n",
    "sc = StandardScaler()\n",
    "\n",
    "x_train,x_test,y_train,y_test = train_test_split(x,y,test_size=0.3,random_state=0)\n",
    "\n",
    "x_train = sc.fit_transform(x_train)\n",
    "x_test = sc.transform(x_test)"
   ]
  },
  {
   "cell_type": "code",
   "execution_count": 6,
   "id": "dd196e5b",
   "metadata": {},
   "outputs": [
    {
     "name": "stderr",
     "output_type": "stream",
     "text": [
      "C:\\Users\\varun george\\anaconda3\\lib\\site-packages\\keras\\optimizers\\optimizer_v2\\adam.py:117: UserWarning: The `lr` argument is deprecated, use `learning_rate` instead.\n",
      "  super().__init__(name, **kwargs)\n"
     ]
    }
   ],
   "source": [
    "import keras\n",
    "from keras.models import Sequential\n",
    "from keras.layers import Dense\n",
    "\n",
    "from keras.optimizers import Adam\n",
    "\n",
    "optimizer = Adam(lr=0.01)\n",
    "loss = 'binary_crossentropy'"
   ]
  },
  {
   "cell_type": "code",
   "execution_count": 40,
   "id": "010ca3f9",
   "metadata": {},
   "outputs": [],
   "source": [
    "model = Sequential()\n",
    "model.add(Dense(units=16, activation='relu', input_dim=x_train.shape[1]))\n",
    "model.add(Dense(units=1, activation='sigmoid'))"
   ]
  },
  {
   "cell_type": "code",
   "execution_count": 41,
   "id": "9ed89bdc",
   "metadata": {},
   "outputs": [],
   "source": [
    "def fitness(weights):\n",
    "    weights = weights.flatten()\n",
    "    w0 = weights[:176].reshape((11, 16))\n",
    "    b0= np.array([0.,0.,0.,0.,0.,0.,0.,0.,0.,0.,0.,0.,0.,0.,0.,0.])\n",
    "    model.layers[0].set_weights([w0, b0])\n",
    "    \n",
    "    model.compile(optimizer=optimizer, loss=loss)\n",
    "    Loss = model.evaluate(x_train, y_train, verbose=0)\n",
    "    return Loss"
   ]
  },
  {
   "cell_type": "code",
   "execution_count": 42,
   "id": "76b58bd6",
   "metadata": {},
   "outputs": [
    {
     "name": "stdout",
     "output_type": "stream",
     "text": [
      "Model: \"sequential_3\"\n",
      "_________________________________________________________________\n",
      " Layer (type)                Output Shape              Param #   \n",
      "=================================================================\n",
      " dense_4 (Dense)             (None, 16)                192       \n",
      "                                                                 \n",
      " dense_5 (Dense)             (None, 1)                 17        \n",
      "                                                                 \n",
      "=================================================================\n",
      "Total params: 209\n",
      "Trainable params: 209\n",
      "Non-trainable params: 0\n",
      "_________________________________________________________________\n"
     ]
    }
   ],
   "source": [
    "model.summary()"
   ]
  },
  {
   "cell_type": "code",
   "execution_count": 43,
   "id": "755ad715",
   "metadata": {},
   "outputs": [],
   "source": [
    "def ant_colony_optimization(population_size=10, iterations=20, alpha=1, beta=2, evaporation_rate=0.5, Q=100):\n",
    "    \n",
    "    # initialize the pheromone matrix\n",
    "    pheromone = np.ones((12, 16))\n",
    "    \n",
    "    \n",
    "    # initialize the best weights and the loss\n",
    "    best_weights = None\n",
    "    best_loss = 99\n",
    "    \n",
    "    for i in range(iterations):\n",
    "        # initialize the ant population and ant accuracies\n",
    "        ants = []\n",
    "        ant_loss = []\n",
    "        \n",
    "        for j in range(population_size):\n",
    "            weights = np.zeros((12,16))\n",
    "            for k in range(12):\n",
    "                for l in range(16):\n",
    "                    if np.random.rand() < pheromone[k][l]:\n",
    "                        weights[k][l] = np.random.randn()\n",
    "                        \n",
    "            losses = fitness(weights)\n",
    "            ants.append(weights)\n",
    "            ant_loss.append(losses)\n",
    "            \n",
    "            \n",
    "            if losses < best_loss:\n",
    "                best_weights = weights\n",
    "                best_loss = losses\n",
    "                \n",
    "                \n",
    "        # update the pheromone matrix\n",
    "        for k in range(11):\n",
    "            for l in range(16):\n",
    "                pheromone[k][l] = (1 - evaporation_rate) * pheromone[k][l]\n",
    "                for j in range(population_size):\n",
    "                    if ants[j][k][l] != 0:\n",
    "                        pheromone[k][l] += Q / ant_loss[j] * ants[j][k][l]\n",
    "       \n",
    "        if i % 10 == 0:\n",
    "            print(\"Iteration:\", i, \"Best Loss:\", best_loss)\n",
    "    \n",
    "    return best_weights"
   ]
  },
  {
   "cell_type": "code",
   "execution_count": 44,
   "id": "72078fe3",
   "metadata": {},
   "outputs": [
    {
     "name": "stdout",
     "output_type": "stream",
     "text": [
      "Iteration: 0 Best Loss: 1.3502413034439087\n",
      "Iteration: 10 Best Loss: 0.5170713663101196\n"
     ]
    }
   ],
   "source": [
    "best_weights = ant_colony_optimization()"
   ]
  },
  {
   "cell_type": "code",
   "execution_count": 47,
   "id": "c64589ff",
   "metadata": {},
   "outputs": [],
   "source": [
    "best_weights = best_weights.flatten()\n",
    "w0 = best_weights[:176].reshape((11, 16))\n",
    "b0= np.array([0.,0.,0.,0.,0.,0.,0.,0.,0.,0.,0.,0.,0.,0.,0.,0.])\n",
    "\n",
    "model.layers[0].set_weights([w0, b0])\n",
    "model.compile(optimizer=optimizer, loss=loss)"
   ]
  },
  {
   "cell_type": "code",
   "execution_count": 49,
   "id": "0b33d971",
   "metadata": {},
   "outputs": [
    {
     "name": "stdout",
     "output_type": "stream",
     "text": [
      "47/47 [==============================] - 0s 1ms/step\n"
     ]
    },
    {
     "data": {
      "text/plain": [
       "0.7566666666666667"
      ]
     },
     "execution_count": 49,
     "metadata": {},
     "output_type": "execute_result"
    }
   ],
   "source": [
    "import numpy as np\n",
    "y_pred = model.predict(x_test)\n",
    "y_pred = np.where(y_pred>=0.5,1,0)\n",
    "from sklearn.metrics import accuracy_score\n",
    "accuracy_score(y_pred,y_test)"
   ]
  },
  {
   "cell_type": "code",
   "execution_count": null,
   "id": "485bf911",
   "metadata": {},
   "outputs": [],
   "source": []
  }
 ],
 "metadata": {
  "kernelspec": {
   "display_name": "Python 3 (ipykernel)",
   "language": "python",
   "name": "python3"
  },
  "language_info": {
   "codemirror_mode": {
    "name": "ipython",
    "version": 3
   },
   "file_extension": ".py",
   "mimetype": "text/x-python",
   "name": "python",
   "nbconvert_exporter": "python",
   "pygments_lexer": "ipython3",
   "version": "3.9.13"
  }
 },
 "nbformat": 4,
 "nbformat_minor": 5
}
